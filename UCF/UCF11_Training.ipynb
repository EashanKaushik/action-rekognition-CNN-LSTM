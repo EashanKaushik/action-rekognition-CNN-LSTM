{
  "cells": [
    {
      "cell_type": "markdown",
      "source": [
        "# Check Runtime"
      ],
      "metadata": {
        "id": "VhGbxfqYeNMo"
      },
      "id": "VhGbxfqYeNMo"
    },
    {
      "cell_type": "code",
      "source": [
        "gpu_info = !nvidia-smi\n",
        "gpu_info = '\\n'.join(gpu_info)\n",
        "if gpu_info.find('failed') >= 0:\n",
        "  print('Not connected to a GPU')\n",
        "else:\n",
        "  print(gpu_info)"
      ],
      "metadata": {
        "colab": {
          "base_uri": "https://localhost:8080/"
        },
        "id": "QSVsRIEfobdt",
        "outputId": "5c1fc082-fcbe-40b4-db64-38ea760f040e"
      },
      "id": "QSVsRIEfobdt",
      "execution_count": 1,
      "outputs": [
        {
          "output_type": "stream",
          "name": "stdout",
          "text": [
            "Mon Nov 21 19:36:26 2022       \n",
            "+-----------------------------------------------------------------------------+\n",
            "| NVIDIA-SMI 460.32.03    Driver Version: 460.32.03    CUDA Version: 11.2     |\n",
            "|-------------------------------+----------------------+----------------------+\n",
            "| GPU  Name        Persistence-M| Bus-Id        Disp.A | Volatile Uncorr. ECC |\n",
            "| Fan  Temp  Perf  Pwr:Usage/Cap|         Memory-Usage | GPU-Util  Compute M. |\n",
            "|                               |                      |               MIG M. |\n",
            "|===============================+======================+======================|\n",
            "|   0  Tesla T4            Off  | 00000000:00:04.0 Off |                    0 |\n",
            "| N/A   38C    P8     9W /  70W |      0MiB / 15109MiB |      0%      Default |\n",
            "|                               |                      |                  N/A |\n",
            "+-------------------------------+----------------------+----------------------+\n",
            "                                                                               \n",
            "+-----------------------------------------------------------------------------+\n",
            "| Processes:                                                                  |\n",
            "|  GPU   GI   CI        PID   Type   Process name                  GPU Memory |\n",
            "|        ID   ID                                                   Usage      |\n",
            "|=============================================================================|\n",
            "|  No running processes found                                                 |\n",
            "+-----------------------------------------------------------------------------+\n"
          ]
        }
      ]
    },
    {
      "cell_type": "code",
      "source": [
        "from psutil import virtual_memory\n",
        "ram_gb = virtual_memory().total / 1e9\n",
        "print('Your runtime has {:.1f} gigabytes of available RAM\\n'.format(ram_gb))\n",
        "\n",
        "if ram_gb < 20:\n",
        "  print('Not using a high-RAM runtime')\n",
        "else:\n",
        "  print('You are using a high-RAM runtime!')"
      ],
      "metadata": {
        "colab": {
          "base_uri": "https://localhost:8080/"
        },
        "id": "0s1ZgDB3ofOK",
        "outputId": "f6398e4c-19eb-48e8-b666-47e1b918bd1d"
      },
      "id": "0s1ZgDB3ofOK",
      "execution_count": 2,
      "outputs": [
        {
          "output_type": "stream",
          "name": "stdout",
          "text": [
            "Your runtime has 27.3 gigabytes of available RAM\n",
            "\n",
            "You are using a high-RAM runtime!\n"
          ]
        }
      ]
    },
    {
      "cell_type": "markdown",
      "source": [
        "# Import Libraries"
      ],
      "metadata": {
        "id": "8HZQ3oZ3eSV8"
      },
      "id": "8HZQ3oZ3eSV8"
    },
    {
      "cell_type": "code",
      "execution_count": 3,
      "id": "01e8557b",
      "metadata": {
        "id": "01e8557b"
      },
      "outputs": [],
      "source": [
        "import os\n",
        "import cv2\n",
        "import matplotlib.pyplot as plt\n",
        "import numpy as np\n",
        "from datetime import datetime\n",
        "import random\n",
        "import time\n",
        "import json\n",
        "import seaborn as sns\n",
        "\n",
        "from sklearn.model_selection import train_test_split\n",
        "from sklearn.metrics import accuracy_score, confusion_matrix, ConfusionMatrixDisplay"
      ]
    },
    {
      "cell_type": "code",
      "execution_count": 4,
      "id": "93dd1614",
      "metadata": {
        "id": "93dd1614"
      },
      "outputs": [],
      "source": [
        "import torch\n",
        "import torch.nn as nn\n",
        "from torch.utils.data import DataLoader\n",
        "from torchvision import datasets, transforms\n",
        "from torchvision.utils import make_grid\n",
        "import torch.nn.functional as F\n",
        "from torch.utils.data import Subset, Dataset\n",
        "import torch.optim.lr_scheduler as lr_scheduler\n",
        "from torchsummary import summary"
      ]
    },
    {
      "cell_type": "markdown",
      "source": [
        "# Global Variables"
      ],
      "metadata": {
        "id": "OEWkVya2e567"
      },
      "id": "OEWkVya2e567"
    },
    {
      "cell_type": "code",
      "execution_count": 5,
      "id": "49845800",
      "metadata": {
        "id": "49845800"
      },
      "outputs": [],
      "source": [
        "SEED = 42\n",
        "\n",
        "np.random.seed(SEED)\n",
        "random.seed(SEED)\n",
        "\n",
        "BATCH_SIZE=64\n",
        "\n",
        "LEARNING_RATE=0.0001\n",
        "WEIGHT_DECAY=0.8\n",
        "# SGD\n",
        "MOMENTUM=0.9\n",
        "\n",
        "IMAGE_HEIGHT , IMAGE_WIDTH = 64, 64\n",
        "\n",
        "FRAMES_PER_VIDEO = 20\n",
        "\n",
        "ROOT_DIR=os.path.join('drive', 'MyDrive', 'UCF-11')\n",
        "DEVICE = torch.device(\"cuda:0\" if torch.cuda.is_available() else \"cpu\")\n",
        "# DEVICE = \"cpu\"\n"
      ]
    },
    {
      "cell_type": "markdown",
      "source": [
        "# Dataset"
      ],
      "metadata": {
        "id": "VLM_2AmLe86A"
      },
      "id": "VLM_2AmLe86A"
    },
    {
      "cell_type": "code",
      "source": [
        "from google.colab import drive\n",
        "drive.mount('/content/drive')"
      ],
      "metadata": {
        "id": "Jv01hu0umZIe",
        "colab": {
          "base_uri": "https://localhost:8080/"
        },
        "outputId": "e8fc9a09-9ba1-483f-f996-167384913eca"
      },
      "id": "Jv01hu0umZIe",
      "execution_count": 6,
      "outputs": [
        {
          "output_type": "stream",
          "name": "stdout",
          "text": [
            "Mounted at /content/drive\n"
          ]
        }
      ]
    },
    {
      "cell_type": "code",
      "source": [
        "X_train_frames = np.load(os.path.join(ROOT_DIR, \"Train\", \"X_train_frames.npy\"))\n",
        "X_train_keypoints = np.load(os.path.join(ROOT_DIR, \"Train\", \"X_train_keypoints.npy\"))\n",
        "y_train = np.load(os.path.join(ROOT_DIR, \"Train\", \"y_train.npy\"))\n",
        "\n",
        "X_test_frames = np.load(os.path.join(ROOT_DIR, \"Test\", \"X_test_frames.npy\"))\n",
        "X_test_keypoints = np.load(os.path.join(ROOT_DIR, \"Test\", \"X_test_keypoints.npy\"))\n",
        "y_test = np.load(os.path.join(ROOT_DIR, \"Test\", \"y_test.npy\"))\n",
        "\n",
        "X_val_frames = np.load(os.path.join(ROOT_DIR, \"Val\", \"X_val_frames.npy\"))\n",
        "X_val_keypoints = np.load(os.path.join(ROOT_DIR, \"Val\", \"X_val_keypoints.npy\"))\n",
        "y_val = np.load(os.path.join(ROOT_DIR, \"Val\", \"y_val.npy\"))"
      ],
      "metadata": {
        "id": "jKwDBXRAC5Dn"
      },
      "id": "jKwDBXRAC5Dn",
      "execution_count": 7,
      "outputs": []
    },
    {
      "cell_type": "code",
      "source": [
        "with open(os.path.join(ROOT_DIR, \"label_encoder.json\")) as f:\n",
        "\tdata = json.load(f)\n",
        "CLASSES = list(data.keys())"
      ],
      "metadata": {
        "id": "-X4Sw5f-EGwC"
      },
      "id": "-X4Sw5f-EGwC",
      "execution_count": 34,
      "outputs": []
    },
    {
      "cell_type": "code",
      "source": [
        "class UCFCustom(Dataset):\n",
        "    def __init__(self, frames, keypoints, labels, transform=None):\n",
        "        self.frames = frames\n",
        "        self.labels = labels\n",
        "        self.keypoints = keypoints\n",
        "        self.transform = transform\n",
        "    \n",
        "    def __len__(self):\n",
        "        return len(self.labels)\n",
        "    \n",
        "    def __getitem__(self, index):\n",
        "        X_frames = np.moveaxis(self.frames[index], 3, 0)\n",
        "        X_frames = torch.from_numpy(X_frames)\n",
        "        X_keypoints = torch.from_numpy(self.keypoints[index])\n",
        "        y = torch.from_numpy(np.array(self.labels[index])).type(torch.LongTensor)\n",
        "        \n",
        "        X_frames = X_frames.float()\n",
        "        X_keypoints = X_keypoints.float()\n",
        "        # y = y.float()\n",
        "        \n",
        "        \n",
        "        if self.transform:\n",
        "            X_frames = self.transform(X_frames)\n",
        "            X_keypoints = self.transform(X_keypoints)\n",
        "        \n",
        "        return X_frames, X_keypoints, y"
      ],
      "metadata": {
        "id": "pC_i0EQrC-2t"
      },
      "id": "pC_i0EQrC-2t",
      "execution_count": 8,
      "outputs": []
    },
    {
      "cell_type": "code",
      "source": [
        "test_dataset = UCFCustom(X_test_frames, X_test_keypoints, y_test, transform=None)\n",
        "val_dataset = UCFCustom(X_val_frames, X_val_keypoints, y_val, transform=None)\n",
        "train_dataset = UCFCustom(X_train_frames, X_train_keypoints, y_train, transform=None)"
      ],
      "metadata": {
        "id": "B7BoRm1bDBSH"
      },
      "id": "B7BoRm1bDBSH",
      "execution_count": 9,
      "outputs": []
    },
    {
      "cell_type": "code",
      "source": [
        "test_dataloader = DataLoader(test_dataset, batch_size=BATCH_SIZE,\n",
        "                                          shuffle=True, num_workers=0)\n",
        "train_dataloader = DataLoader(train_dataset, batch_size=BATCH_SIZE,\n",
        "                                          shuffle=True, num_workers=0)\n",
        "val_dataloader = DataLoader(val_dataset, batch_size=BATCH_SIZE,\n",
        "                                          shuffle=True, num_workers=0)"
      ],
      "metadata": {
        "id": "GaOK4Ow8DChV"
      },
      "id": "GaOK4Ow8DChV",
      "execution_count": 10,
      "outputs": []
    },
    {
      "cell_type": "code",
      "source": [
        "X_frames, X_keypoints, y = next(iter(train_dataloader))"
      ],
      "metadata": {
        "id": "kkkw49fsjFVL"
      },
      "id": "kkkw49fsjFVL",
      "execution_count": 11,
      "outputs": []
    },
    {
      "cell_type": "code",
      "source": [
        "X_frames.shape"
      ],
      "metadata": {
        "colab": {
          "base_uri": "https://localhost:8080/"
        },
        "id": "zlEDW5UGFGOY",
        "outputId": "507a0c4a-efbc-4536-8aaa-7b7baa5a3611"
      },
      "id": "zlEDW5UGFGOY",
      "execution_count": 12,
      "outputs": [
        {
          "output_type": "execute_result",
          "data": {
            "text/plain": [
              "torch.Size([64, 3, 20, 64, 64])"
            ]
          },
          "metadata": {},
          "execution_count": 12
        }
      ]
    },
    {
      "cell_type": "code",
      "source": [
        "X_keypoints.shape"
      ],
      "metadata": {
        "colab": {
          "base_uri": "https://localhost:8080/"
        },
        "id": "oVdNaYCZjkDU",
        "outputId": "0a7a0979-e1ef-4231-9c21-c62edd4d4472"
      },
      "id": "oVdNaYCZjkDU",
      "execution_count": 13,
      "outputs": [
        {
          "output_type": "execute_result",
          "data": {
            "text/plain": [
              "torch.Size([64, 20, 1662])"
            ]
          },
          "metadata": {},
          "execution_count": 13
        }
      ]
    },
    {
      "cell_type": "code",
      "source": [
        "x_axis, y_axis = np.unique(y_train, return_counts=True)\n",
        "sns.barplot(x=CLASSES, y=y_axis)\n",
        "plt.xticks(rotation=45)\n",
        "plt.show()"
      ],
      "metadata": {
        "colab": {
          "base_uri": "https://localhost:8080/",
          "height": 334
        },
        "id": "l110weT8qiRN",
        "outputId": "11737aed-6d78-4e2c-ec42-726f3e4a8fb3"
      },
      "id": "l110weT8qiRN",
      "execution_count": 36,
      "outputs": [
        {
          "output_type": "display_data",
          "data": {
            "text/plain": [
              "<Figure size 432x288 with 1 Axes>"
            ],
            "image/png": "[encoded data removed]"
          },
          "metadata": {
            "needs_background": "light"
          }
        }
      ]
    },
    {
      "cell_type": "code",
      "source": [
        "x_axis, y_axis = np.unique(y_val, return_counts=True)\n",
        "sns.barplot(x=CLASSES, y=y_axis)\n",
        "plt.xticks(rotation=45)\n",
        "plt.show()"
      ],
      "metadata": {
        "colab": {
          "base_uri": "https://localhost:8080/",
          "height": 334
        },
        "id": "kTfFOqqRq_w0",
        "outputId": "f8aa7d49-dbad-46ff-db35-069c39953bbd"
      },
      "id": "kTfFOqqRq_w0",
      "execution_count": 38,
      "outputs": [
        {
          "output_type": "display_data",
          "data": {
            "text/plain": [
              "<Figure size 432x288 with 1 Axes>"
            ],
            "image/png": "[encoded data removed]"
          },
          "metadata": {
            "needs_background": "light"
          }
        }
      ]
    },
    {
      "cell_type": "code",
      "source": [
        "x_axis, y_axis = np.unique(y_test, return_counts=True)\n",
        "sns.barplot(x=CLASSES, y=y_axis)\n",
        "plt.xticks(rotation=45)\n",
        "plt.show()"
      ],
      "metadata": {
        "colab": {
          "base_uri": "https://localhost:8080/",
          "height": 334
        },
        "id": "vnb9cmpnrAOU",
        "outputId": "056f82d3-4f38-429a-bc61-1f4952b9b8bc"
      },
      "id": "vnb9cmpnrAOU",
      "execution_count": 37,
      "outputs": [
        {
          "output_type": "display_data",
          "data": {
            "text/plain": [
              "<Figure size 432x288 with 1 Axes>"
            ],
            "image/png": "[encoded data removed]"
          },
          "metadata": {
            "needs_background": "light"
          }
        }
      ]
    },
    {
      "cell_type": "markdown",
      "source": [
        "# Model"
      ],
      "metadata": {
        "id": "9Yk36s2WiUt2"
      },
      "id": "9Yk36s2WiUt2"
    },
    {
      "cell_type": "markdown",
      "source": [
        "## Module"
      ],
      "metadata": {
        "id": "-iA_d8XNiXVn"
      },
      "id": "-iA_d8XNiXVn"
    },
    {
      "cell_type": "code",
      "execution_count": 17,
      "id": "76687f43",
      "metadata": {
        "id": "76687f43"
      },
      "outputs": [],
      "source": [
        "class Module(nn.Module):\n",
        "    def __init__(self):\n",
        "        super().__init__()\n",
        "    \n",
        "    def loss(self, y_hat, y):\n",
        "        loss = nn.CrossEntropyLoss()\n",
        "\n",
        "        # print(y_hat, y)\n",
        "\n",
        "        # print(y_hat.shape, y.shape)\n",
        "\n",
        "        return loss(y_hat, y)\n",
        "    \n",
        "    def optimizer(self, optimizer_type=\"SGD\"):\n",
        "        assert optimizer_type in (\"SGD\", \"Adam\"), f\"optimizer_type must be SGD or Adam not {optimizer_type}\"\n",
        "        assert hasattr(self, \"lr\"), \"Learning rate is not defined\"\n",
        "        assert hasattr(self, \"weight_decay\"), \"Weight Decay rate is not defined\"\n",
        "        if optimizer_type == \"SGD\":\n",
        "            assert hasattr(self, \"momentum\"), \"Momentum is not defined\"\n",
        "            optimizer = torch.optim.SGD(self.parameters(), lr=self.lr, momentum=self.momentum, weight_decay=self.weight_decay)\n",
        "        else:\n",
        "            optimizer = torch.optim.Adam(self.parameters(), lr=self.lr, weight_decay=self.weight_decay)\n",
        "          \n",
        "        scheduler = lr_scheduler.MultiStepLR(optimizer, milestones=[60, 150], gamma=0.1)\n",
        "        # scheduler=None\n",
        "\n",
        "        return optimizer, scheduler\n",
        "    \n",
        "    def step(self, X_frames, X_keypoints, y):\n",
        "        y_pred = self(X_frames, X_keypoints)\n",
        "        return self.loss(y_pred, y), y_pred"
      ]
    },
    {
      "cell_type": "markdown",
      "source": [
        "## ConvLSTM"
      ],
      "metadata": {
        "id": "-TTxgRwrinzq"
      },
      "id": "-TTxgRwrinzq"
    },
    {
      "cell_type": "code",
      "execution_count": 18,
      "id": "2a4c0a27",
      "metadata": {
        "id": "2a4c0a27"
      },
      "outputs": [],
      "source": [
        "# Original ConvLSTM cell as proposed by Shi et al.\n",
        "class ConvLSTMCell(nn.Module):\n",
        "\n",
        "    def __init__(self, in_channels, out_channels, \n",
        "    kernel_size, padding, activation, frame_size):\n",
        "\n",
        "        super(ConvLSTMCell, self).__init__()  \n",
        "\n",
        "        if activation == \"tanh\":\n",
        "            self.activation = torch.tanh \n",
        "        elif activation == \"relu\":\n",
        "            self.activation = torch.relu\n",
        "        \n",
        "        # Idea adapted from https://github.com/ndrplz/ConvLSTM_pytorch\n",
        "        self.conv = nn.Conv2d(\n",
        "            in_channels=in_channels + out_channels, \n",
        "            out_channels=4 * out_channels, \n",
        "            kernel_size=kernel_size, \n",
        "            padding=padding)\n",
        "        # print(self.conv.weight)\n",
        "        torch.nn.init.xavier_normal_(self.conv.weight)\n",
        "        self.conv.bias.data.fill_(0.01)\n",
        "\n",
        "        # Initialize weights for Hadamard Products\n",
        "        self.W_ci = nn.Parameter(torch.Tensor(out_channels, *frame_size))\n",
        "        self.W_co = nn.Parameter(torch.Tensor(out_channels, *frame_size))\n",
        "        self.W_cf = nn.Parameter(torch.Tensor(out_channels, *frame_size))\n",
        "\n",
        "    def forward(self, X, H_prev, C_prev):\n",
        "\n",
        "        # Idea adapted from https://github.com/ndrplz/ConvLSTM_pytorch\n",
        "        conv_output = self.conv(torch.cat([X, H_prev], dim=1))\n",
        "\n",
        "        # Idea adapted from https://github.com/ndrplz/ConvLSTM_pytorch\n",
        "        i_conv, f_conv, C_conv, o_conv = torch.chunk(conv_output, chunks=4, dim=1)\n",
        "\n",
        "        input_gate = torch.sigmoid(i_conv + self.W_ci * C_prev )\n",
        "        forget_gate = torch.sigmoid(f_conv + self.W_cf * C_prev )\n",
        "\n",
        "        # Current Cell output\n",
        "        C = forget_gate*C_prev + input_gate * self.activation(C_conv)\n",
        "\n",
        "        output_gate = torch.sigmoid(o_conv + self.W_co * C )\n",
        "\n",
        "        # Current Hidden State\n",
        "        H = output_gate * self.activation(C)\n",
        "\n",
        "        return H, C"
      ]
    },
    {
      "cell_type": "code",
      "execution_count": 19,
      "id": "a4d0fb7d",
      "metadata": {
        "id": "a4d0fb7d"
      },
      "outputs": [],
      "source": [
        "class ConvLSTM(nn.Module):\n",
        "\n",
        "    def __init__(self, in_channels, out_channels, \n",
        "    kernel_size, padding, activation, frame_size):\n",
        "\n",
        "        super(ConvLSTM, self).__init__()\n",
        "\n",
        "        self.out_channels = out_channels\n",
        "\n",
        "        # We will unroll this over time steps\n",
        "        self.convLSTMcell = ConvLSTMCell(in_channels, out_channels, \n",
        "        kernel_size, padding, activation, frame_size)\n",
        "\n",
        "    def forward(self, X):\n",
        "\n",
        "        # X is a frame sequence (batch_size, num_channels, seq_len, height, width)\n",
        "\n",
        "        # Get the dimensions\n",
        "        batch_size, _, seq_len, height, width = X.size()\n",
        "\n",
        "        # Initialize output\n",
        "        output = torch.zeros(batch_size, self.out_channels, seq_len, \n",
        "        height, width, device=DEVICE)\n",
        "        \n",
        "        # Initialize Hidden State\n",
        "        H = torch.zeros(batch_size, self.out_channels, \n",
        "        height, width, device=DEVICE)\n",
        "\n",
        "        # Initialize Cell Input\n",
        "        C = torch.zeros(batch_size,self.out_channels, \n",
        "        height, width, device=DEVICE)\n",
        "\n",
        "        # Unroll over time steps\n",
        "        for time_step in range(seq_len):\n",
        "\n",
        "            H, C = self.convLSTMcell(X[:,:,time_step], H, C)\n",
        "\n",
        "            output[:,:,time_step] = H\n",
        "\n",
        "        return output"
      ]
    },
    {
      "cell_type": "markdown",
      "source": [
        "## Architecture"
      ],
      "metadata": {
        "id": "mNaSKxkIi_5-"
      },
      "id": "mNaSKxkIi_5-"
    },
    {
      "cell_type": "code",
      "execution_count": 20,
      "id": "f7b6b155",
      "metadata": {
        "id": "f7b6b155"
      },
      "outputs": [],
      "source": [
        "class Seq2Seq(Module):\n",
        "\n",
        "    def __init__(self, num_channels, num_kernels, kernel_size, padding, \n",
        "    activation, frame_size, num_layers, sequence_length, keypoints_length, lr=LEARNING_RATE, momentum=MOMENTUM, weight_decay=WEIGHT_DECAY):\n",
        "\n",
        "        super(Seq2Seq, self).__init__()\n",
        "                \n",
        "        self.lr = lr\n",
        "        self.momentum = momentum\n",
        "        self.weight_decay = weight_decay\n",
        "        self.keypoints_length = keypoints_length\n",
        "        self.sequence_length = sequence_length\n",
        "\n",
        "        self.sequential = nn.Sequential()\n",
        "\n",
        "        # Add First layer (Different in_channels than the rest)\n",
        "        self.sequential.add_module(\n",
        "            \"convlstm1\", ConvLSTM(\n",
        "                in_channels=num_channels, out_channels=num_kernels,\n",
        "                kernel_size=kernel_size, padding=padding, \n",
        "                activation=activation, frame_size=frame_size)\n",
        "        )\n",
        "\n",
        "        # self.sequential.add_module(\n",
        "        #     \"dropout1\", nn.Dropout3d(p=0.5)\n",
        "        # )\n",
        "\n",
        "        self.sequential.add_module(\n",
        "            \"batchnorm1\", nn.BatchNorm3d(num_features=num_kernels)\n",
        "        ) \n",
        "\n",
        "        # Add rest of the layers\n",
        "        for l in range(2, num_layers+1):\n",
        "\n",
        "            self.sequential.add_module(\n",
        "                f\"convlstm{l}\", ConvLSTM(\n",
        "                    in_channels=num_kernels, out_channels=num_kernels,\n",
        "                    kernel_size=kernel_size, padding=padding, \n",
        "                    activation=activation, frame_size=frame_size)\n",
        "                )\n",
        "            \n",
        "            # self.sequential.add_module(\n",
        "            #     f\"dropout{l}\", nn.Dropout3d(p=0.5)\n",
        "            #     )\n",
        "                \n",
        "            self.sequential.add_module(\n",
        "                f\"batchnorm{l}\", nn.BatchNorm3d(num_features=num_kernels)\n",
        "                ) \n",
        "\n",
        "        self.conv = nn.Conv2d(\n",
        "            in_channels=num_kernels, out_channels=num_channels,\n",
        "            kernel_size=kernel_size, padding=padding)\n",
        "        # print(self.conv.weight)\n",
        "        torch.nn.init.xavier_normal_(self.conv.weight)\n",
        "        self.conv.bias.data.fill_(0.01)\n",
        "          \n",
        "        self.lstm_cell_layer_1 = nn.LSTMCell(self.keypoints_length, 512)\n",
        "\n",
        "        self.lstm_cell_layer_2 = nn.LSTMCell(512, 512)\n",
        "        \n",
        "        self.fc = nn.Linear( (3 * 64 * 64) + 512, 11)\n",
        "\n",
        "        torch.nn.init.xavier_normal_(self.fc.weight)\n",
        "        self.fc.bias.data.fill_(0.01)\n",
        "\n",
        "        self.device = torch.device(\"cuda:0\" if torch.cuda.is_available() else \"cpu\")\n",
        "\n",
        "    def forward(self, X_frames, X_keypoints):\n",
        "\n",
        "        output = self.sequential(X_frames)\n",
        "\n",
        "        output = self.conv(output[:,:,-1])\n",
        "        \n",
        "        output = output.view(output.size(0), -1)\n",
        "\n",
        "        hidden_state = torch.zeros(X_keypoints.size(0), 512).to(self.device)\n",
        "        cell_state = torch.zeros(X_keypoints.size(0), 512).to(self.device)\n",
        "        hidden_state_2 = torch.zeros(X_keypoints.size(0), 512).to(self.device)\n",
        "        cell_state_2 = torch.zeros(X_keypoints.size(0), 512).to(self.device)\n",
        "\n",
        "        torch.nn.init.xavier_normal_(hidden_state)\n",
        "        torch.nn.init.xavier_normal_(cell_state)\n",
        "        torch.nn.init.xavier_normal_(hidden_state_2)\n",
        "        torch.nn.init.xavier_normal_(cell_state_2)\n",
        "\n",
        "        out = X_keypoints.view(self.sequence_length, X_keypoints.size(0), -1)\n",
        "\n",
        "        for i in range(self.sequence_length):\n",
        "          hidden_state, cell_state = self.lstm_cell_layer_1(out[i], (hidden_state, cell_state))\n",
        "          hidden_state_2, cell_state_2 = self.lstm_cell_layer_2(hidden_state, (hidden_state_2, cell_state_2))\n",
        "\n",
        "        # print(output.shape, hidden_state_2.shape)\n",
        "        # print(torch.cat((output, hidden_state_2), 1))\n",
        "        # print((3 * 64 * 64) + 512)\n",
        "        final_output = torch.cat((output, hidden_state_2), 1)\n",
        "        \n",
        "        final_output = self.fc(final_output)\n",
        "        \n",
        "        return final_output"
      ]
    },
    {
      "cell_type": "markdown",
      "source": [
        "## TRAINER"
      ],
      "metadata": {
        "id": "4MRqkZZljCVj"
      },
      "id": "4MRqkZZljCVj"
    },
    {
      "cell_type": "code",
      "execution_count": 21,
      "id": "62cbce4a",
      "metadata": {
        "id": "62cbce4a"
      },
      "outputs": [],
      "source": [
        "class Trainer():\n",
        "    def __init__(self, epochs=10):\n",
        "        self.epochs = epochs\n",
        "        \n",
        "    def prepare_model(self, model):\n",
        "        model.trainer = self\n",
        "        self.model = model\n",
        "    def save_checkpoint(self, epoch):\n",
        "        torch.save(self.model, os.path.join(\"drive/MyDrive/checkpoint\", f\"model_{epoch + 1}.pt\"))\n",
        "        with open(os.path.join(\"drive/MyDrive/checkpoint\", f\"history_{epoch + 1}.json\"), 'w') as fp:\n",
        "            json.dump(self.history, fp)\n",
        "    \n",
        "    def load_checkpoint(self, epoch):\n",
        "        self.model = torch.load(os.path.join(\"drive/MyDrive/checkpoint\", f\"model_{epoch + 1}.pt\"))\n",
        "        with open(os.path.join(\"drive/MyDrive/checkpoint\", f\"history_{epoch + 1}.json\"), \"r\") as json_file:\n",
        "            self.history = json.load(json_file)\n",
        "      \n",
        "    def epoch_time(self, start_time, end_time):\n",
        "        elapsed_time = start_time - end_time\n",
        "        elapsed_mins = int(elapsed_time/60)\n",
        "        elapsed_secs = int(elapsed_time - (elapsed_mins * 60))\n",
        "        return elapsed_mins, elapsed_secs\n",
        "    def fit(self, train_dataloader, val_dataloader, model):\n",
        "        \n",
        "        self.device = torch.device(\"cuda:0\" if torch.cuda.is_available() else \"cpu\")\n",
        "        # self.device = 'cpu'\n",
        "        highest_val = 0\n",
        "        val_threshold = 0.71\n",
        "        self.prepare_model(model)\n",
        "        self.model.to(self.device)\n",
        "        \n",
        "        self.optimizer, self.scheduler = self.model.optimizer(\"Adam\")\n",
        "        \n",
        "        self.history = {\"train\": {\"loss\": [], \"accuracy\": []}, \"val\": {\"loss\": [], \"accuracy\": []}}\n",
        "        for epoch in range(0, self.epochs):\n",
        "            \n",
        "            start_time = time.time()\n",
        "            train_loss, train_acc = self.fit_train(train_dataloader)\n",
        "            val_loss, val_acc = self.fit_val(val_dataloader)\n",
        "            end_time = time.time()\n",
        "\n",
        "            self.scheduler.step()\n",
        "            \n",
        "            elapsed_mins, elapsed_secs = self.epoch_time( start_time, end_time)\n",
        "            \n",
        "            print(f\"<---- Epoch {epoch + 1}: {elapsed_mins}m {elapsed_secs}s ---->\")\n",
        "            print(f\"Train Loss: {train_loss}, Train Accuracy: {train_acc}\")\n",
        "            print(f\"Val Loss: {val_loss}, Val Accuracy: {val_acc}\")\n",
        "            \n",
        "            self.history[\"train\"][\"loss\"].append(train_loss)\n",
        "            self.history[\"train\"][\"accuracy\"].append(train_acc)\n",
        "            self.history[\"val\"][\"loss\"].append(val_loss)\n",
        "            self.history[\"val\"][\"accuracy\"].append(val_acc)\n",
        "\n",
        "            if val_acc > val_threshold:\n",
        "              if val_acc > highest_val:\n",
        "                highest_val = val_acc\n",
        "                self.save_checkpoint(epoch + 1)\n",
        "        \n",
        "        self.model.to(\"cpu\")\n",
        "        \n",
        "        return self.history\n",
        "    def fit_train(self, train_dataloader):\n",
        "        self.model.train()\n",
        "        \n",
        "        total_loss = 0\n",
        "        accuracy = 0\n",
        "        \n",
        "        batchs = 0\n",
        "        \n",
        "        for X_frames, X_keypoints, y in train_dataloader:\n",
        "            batchs += 1\n",
        "            X_frames, X_keypoints, y = X_frames.to(self.device), X_keypoints.to(self.device), y.to(self.device)\n",
        "            \n",
        "            loss, y_pred = self.model.step(X_frames, X_keypoints, y)\n",
        "            \n",
        "            self.optimizer.zero_grad()\n",
        "            loss.backward()\n",
        "            self.optimizer.step()\n",
        "            \n",
        "            total_loss += loss.item()\n",
        "            accuracy += accuracy_score(np.argmax(y_pred.to(\"cpu\").detach().numpy(), axis=1).reshape(-1,1), y.to(\"cpu\").detach().numpy().reshape(-1,1))\n",
        "            \n",
        "            del X_frames, X_keypoints, y, loss\n",
        "                \n",
        "        return total_loss / batchs, accuracy / batchs\n",
        "    def fit_val(self, val_dataloader):\n",
        "        assert hasattr(self, \"model\"), \"Model is not yet defined\"\n",
        "\n",
        "        self.model.eval()\n",
        "        total_loss = 0\n",
        "        accuracy = 0\n",
        "\n",
        "        batchs = 0\n",
        "\n",
        "        for X_frames, X_keypoints, y in val_dataloader:\n",
        "            batchs += 1\n",
        "            X_frames, X_keypoints, y = X_frames.to(self.device), X_keypoints.to(self.device), y.to(self.device)\n",
        "\n",
        "            with torch.no_grad():\n",
        "                loss, y_pred = self.model.step(X_frames, X_keypoints, y)\n",
        "                total_loss += loss.item()\n",
        "                accuracy += accuracy_score(np.argmax(y_pred.to(\"cpu\").detach().numpy(), axis=1).reshape(-1,1), y.to(\"cpu\").detach().numpy().reshape(-1,1))\n",
        "                del X_frames, X_keypoints, y, loss\n",
        "\n",
        "        return total_loss / batchs, accuracy / batchs\n",
        "\n",
        "    def evaluate(self, test_dataloader):\n",
        "        \n",
        "        assert hasattr(self, \"model\"), \"Model is not yet defined\"\n",
        "        if not hasattr(self, \"device\"):\n",
        "            self.device = torch.device(\"cuda:0\" if torch.cuda.is_available() else \"cpu\")\n",
        "        self.model.to(self.device)\n",
        "        self.model.eval()\n",
        "        correct = 0\n",
        "        batchs = 0\n",
        "        predictions = list()\n",
        "        labels = list()\n",
        "        for X_frames, X_keypoints, y in test_dataloader:\n",
        "            batchs += 1\n",
        "            X_frames, X_keypoints, y = X_frames.to(self.device), X_keypoints.to(self.device), y.to(self.device)\n",
        "\n",
        "            with torch.no_grad():\n",
        "                _, y_pred = self.model.step(X_frames, X_keypoints, y)\n",
        "                y_pred = np.argmax(y_pred.to(\"cpu\").detach().numpy(), axis=1).reshape(-1,1)\n",
        "                y = y.to(\"cpu\").detach().numpy().reshape(-1,1)\n",
        "                predictions.extend(y_pred)\n",
        "                labels.extend(y)\n",
        "                accuracy = accuracy_score(y_pred, y)\n",
        "\n",
        "                correct += accuracy\n",
        "\n",
        "                del X_frames, X_keypoints, y\n",
        "\n",
        "\n",
        "        return correct / batchs, np.array(predictions, dtype=object), np.array(labels, dtype=object)"
      ]
    },
    {
      "cell_type": "markdown",
      "source": [
        "## TRAINING"
      ],
      "metadata": {
        "id": "JeTx8xmpjqjC"
      },
      "id": "JeTx8xmpjqjC"
    },
    {
      "cell_type": "code",
      "execution_count": 22,
      "id": "2a4cfffc",
      "metadata": {
        "colab": {
          "base_uri": "https://localhost:8080/"
        },
        "id": "2a4cfffc",
        "outputId": "d3be5311-3372-4c66-a021-3f2273f31bec"
      },
      "outputs": [
        {
          "output_type": "execute_result",
          "data": {
            "text/plain": [
              "7174718"
            ]
          },
          "metadata": {},
          "execution_count": 22
        }
      ],
      "source": [
        "# The input video frames are grayscale, thus single channel\n",
        "model = Seq2Seq(num_channels=3, num_kernels=16, \n",
        "kernel_size=(5, 5), padding=(2, 2), activation=\"relu\", \n",
        "frame_size=(64, 64), num_layers=2, sequence_length=20, keypoints_length=1662).to(DEVICE)\n",
        "\n",
        "def count_parameters(model):\n",
        "    return sum(p.numel() for p in model.parameters() if p.requires_grad)\n",
        "\n",
        "count_parameters(model)"
      ]
    },
    {
      "cell_type": "code",
      "execution_count": 33,
      "id": "e850f5c2",
      "metadata": {
        "id": "e850f5c2",
        "colab": {
          "base_uri": "https://localhost:8080/"
        },
        "outputId": "6705895e-778e-473c-b1ce-4564987f1b3e"
      },
      "outputs": [
        {
          "output_type": "stream",
          "name": "stdout",
          "text": [
            "Seq2Seq(\n",
            "  (sequential): Sequential(\n",
            "    (convlstm1): ConvLSTM(\n",
            "      (convLSTMcell): ConvLSTMCell(\n",
            "        (conv): Conv2d(19, 64, kernel_size=(5, 5), stride=(1, 1), padding=(2, 2))\n",
            "      )\n",
            "    )\n",
            "    (batchnorm1): BatchNorm3d(16, eps=1e-05, momentum=0.1, affine=True, track_running_stats=True)\n",
            "    (convlstm2): ConvLSTM(\n",
            "      (convLSTMcell): ConvLSTMCell(\n",
            "        (conv): Conv2d(32, 64, kernel_size=(5, 5), stride=(1, 1), padding=(2, 2))\n",
            "      )\n",
            "    )\n",
            "    (batchnorm2): BatchNorm3d(16, eps=1e-05, momentum=0.1, affine=True, track_running_stats=True)\n",
            "  )\n",
            "  (conv): Conv2d(16, 3, kernel_size=(5, 5), stride=(1, 1), padding=(2, 2))\n",
            "  (lstm_cell_layer_1): LSTMCell(1662, 512)\n",
            "  (lstm_cell_layer_2): LSTMCell(512, 512)\n",
            "  (fc): Linear(in_features=12800, out_features=11, bias=True)\n",
            ")\n"
          ]
        }
      ],
      "source": [
        "print(model)"
      ]
    },
    {
      "cell_type": "code",
      "execution_count": 24,
      "id": "afb12d17",
      "metadata": {
        "colab": {
          "base_uri": "https://localhost:8080/"
        },
        "id": "afb12d17",
        "outputId": "b5e8c5a8-8433-4ac5-b410-7c521da02931"
      },
      "outputs": [
        {
          "output_type": "stream",
          "name": "stdout",
          "text": [
            "<---- Epoch 1: 0m -34s ---->\n",
            "Train Loss: 4.794933795928955, Train Accuracy: 0.19025735294117646\n",
            "Val Loss: 2.41970009803772, Val Accuracy: 0.1\n",
            "<---- Epoch 2: 0m -27s ---->\n",
            "Train Loss: 2.6868588784161735, Train Accuracy: 0.3318014705882353\n",
            "Val Loss: 2.410547161102295, Val Accuracy: 0.12544642857142857\n",
            "<---- Epoch 3: 0m -27s ---->\n",
            "Train Loss: 1.999521304579342, Train Accuracy: 0.43474264705882354\n",
            "Val Loss: 2.3567006587982178, Val Accuracy: 0.20357142857142857\n",
            "<---- Epoch 4: 0m -27s ---->\n",
            "Train Loss: 1.4446458115297205, Train Accuracy: 0.5560661764705882\n",
            "Val Loss: 2.2826026678085327, Val Accuracy: 0.28214285714285714\n",
            "<---- Epoch 5: 0m -27s ---->\n",
            "Train Loss: 1.0945818213855518, Train Accuracy: 0.6516544117647058\n",
            "Val Loss: 2.0156840085983276, Val Accuracy: 0.36919642857142854\n",
            "<---- Epoch 6: 0m -27s ---->\n",
            "Train Loss: 0.8878033196224886, Train Accuracy: 0.7178308823529411\n",
            "Val Loss: 1.8413636922836303, Val Accuracy: 0.5138392857142857\n",
            "<---- Epoch 7: 0m -27s ---->\n",
            "Train Loss: 0.7630745102377499, Train Accuracy: 0.7683823529411765\n",
            "Val Loss: 1.5529345989227294, Val Accuracy: 0.5897321428571429\n",
            "<---- Epoch 8: 0m -27s ---->\n",
            "Train Loss: 0.688280280898599, Train Accuracy: 0.8033088235294118\n",
            "Val Loss: 1.7031830549240112, Val Accuracy: 0.5928571428571429\n",
            "<---- Epoch 9: 0m -27s ---->\n",
            "Train Loss: 0.6169318802216474, Train Accuracy: 0.8272058823529411\n",
            "Val Loss: 1.492460584640503, Val Accuracy: 0.5924107142857142\n",
            "<---- Epoch 10: 0m -27s ---->\n",
            "Train Loss: 0.5424344276680666, Train Accuracy: 0.8612132352941176\n",
            "Val Loss: 1.5116236448287963, Val Accuracy: 0.5825892857142857\n",
            "<---- Epoch 11: 0m -27s ---->\n",
            "Train Loss: 0.4850982076981488, Train Accuracy: 0.8786764705882353\n",
            "Val Loss: 1.4195921182632447, Val Accuracy: 0.6334821428571429\n",
            "<---- Epoch 12: 0m -27s ---->\n",
            "Train Loss: 0.45635365913896, Train Accuracy: 0.8887867647058824\n",
            "Val Loss: 1.432945227622986, Val Accuracy: 0.6424107142857143\n",
            "<---- Epoch 13: 0m -27s ---->\n",
            "Train Loss: 0.408099163981045, Train Accuracy: 0.9126838235294118\n",
            "Val Loss: 1.3642434358596802, Val Accuracy: 0.6299107142857142\n",
            "<---- Epoch 14: 0m -27s ---->\n",
            "Train Loss: 0.38012513343025656, Train Accuracy: 0.9273897058823529\n",
            "Val Loss: 1.3128852128982544, Val Accuracy: 0.6361607142857142\n",
            "<---- Epoch 15: 0m -27s ---->\n",
            "Train Loss: 0.34252826431218314, Train Accuracy: 0.9356617647058824\n",
            "Val Loss: 1.4722770214080811, Val Accuracy: 0.6486607142857143\n",
            "<---- Epoch 16: 0m -27s ---->\n",
            "Train Loss: 0.3252798424047582, Train Accuracy: 0.9393382352941176\n",
            "Val Loss: 1.48217613697052, Val Accuracy: 0.6138392857142857\n",
            "<---- Epoch 17: 0m -27s ---->\n",
            "Train Loss: 0.30680298717582927, Train Accuracy: 0.9448529411764706\n",
            "Val Loss: 1.6009910106658936, Val Accuracy: 0.6071428571428571\n",
            "<---- Epoch 18: 0m -27s ---->\n",
            "Train Loss: 0.2885063877877067, Train Accuracy: 0.9540441176470589\n",
            "Val Loss: 1.2053990125656129, Val Accuracy: 0.6866071428571429\n",
            "<---- Epoch 19: 0m -27s ---->\n",
            "Train Loss: 0.2676975122269462, Train Accuracy: 0.9641544117647058\n",
            "Val Loss: 1.1658024191856384, Val Accuracy: 0.6897321428571429\n",
            "<---- Epoch 20: 0m -27s ---->\n",
            "Train Loss: 0.2637888368438272, Train Accuracy: 0.9623161764705882\n",
            "Val Loss: 1.1858922600746156, Val Accuracy: 0.6928571428571428\n",
            "<---- Epoch 21: 0m -27s ---->\n",
            "Train Loss: 0.25431807602153106, Train Accuracy: 0.9595588235294118\n",
            "Val Loss: 1.173392367362976, Val Accuracy: 0.6897321428571429\n",
            "<---- Epoch 22: 0m -27s ---->\n",
            "Train Loss: 0.2401923616142834, Train Accuracy: 0.9715073529411765\n",
            "Val Loss: 1.5081775426864623, Val Accuracy: 0.6928571428571428\n",
            "<---- Epoch 23: 0m -27s ---->\n",
            "Train Loss: 0.23169316877337062, Train Accuracy: 0.9724264705882353\n",
            "Val Loss: 1.3984405755996705, Val Accuracy: 0.6705357142857142\n",
            "<---- Epoch 24: 0m -27s ---->\n",
            "Train Loss: 0.23422807542716756, Train Accuracy: 0.9696691176470589\n",
            "Val Loss: 1.3655245423316955, Val Accuracy: 0.7053571428571429\n",
            "<---- Epoch 25: 0m -27s ---->\n",
            "Train Loss: 0.21638446257394903, Train Accuracy: 0.9770220588235294\n",
            "Val Loss: 1.2725577116012574, Val Accuracy: 0.6830357142857142\n",
            "<---- Epoch 26: 0m -27s ---->\n",
            "Train Loss: 0.2130453192135867, Train Accuracy: 0.9779411764705882\n",
            "Val Loss: 1.3057204246520997, Val Accuracy: 0.6924107142857142\n",
            "<---- Epoch 27: 0m -27s ---->\n",
            "Train Loss: 0.20204611473223744, Train Accuracy: 0.9779411764705882\n",
            "Val Loss: 1.1151718974113465, Val Accuracy: 0.7401785714285715\n",
            "<---- Epoch 28: 0m -27s ---->\n",
            "Train Loss: 0.19078758534263163, Train Accuracy: 0.9834558823529411\n",
            "Val Loss: 1.2247238636016846, Val Accuracy: 0.7116071428571429\n",
            "<---- Epoch 29: 0m -27s ---->\n",
            "Train Loss: 0.18563598043778362, Train Accuracy: 0.9770220588235294\n",
            "Val Loss: 1.1464131712913512, Val Accuracy: 0.7084821428571428\n",
            "<---- Epoch 30: 0m -27s ---->\n",
            "Train Loss: 0.18587846528081334, Train Accuracy: 0.9852941176470589\n",
            "Val Loss: 1.2532784461975097, Val Accuracy: 0.7116071428571429\n",
            "<---- Epoch 31: 0m -27s ---->\n",
            "Train Loss: 0.18196128045811372, Train Accuracy: 0.9862132352941176\n",
            "Val Loss: 1.0556367993354798, Val Accuracy: 0.7308035714285714\n",
            "<---- Epoch 32: 0m -27s ---->\n",
            "Train Loss: 0.18149725303930395, Train Accuracy: 0.9834558823529411\n",
            "Val Loss: 1.111031174659729, Val Accuracy: 0.7116071428571429\n",
            "<---- Epoch 33: 0m -27s ---->\n",
            "Train Loss: 0.18502819538116455, Train Accuracy: 0.9788602941176471\n",
            "Val Loss: 1.2509670734405518, Val Accuracy: 0.7084821428571428\n",
            "<---- Epoch 34: 0m -27s ---->\n",
            "Train Loss: 0.17784694976666393, Train Accuracy: 0.9871323529411765\n",
            "Val Loss: 1.4553158164024353, Val Accuracy: 0.6191964285714285\n",
            "<---- Epoch 35: 0m -27s ---->\n",
            "Train Loss: 0.17168713930775137, Train Accuracy: 0.984375\n",
            "Val Loss: 0.9916561603546142, Val Accuracy: 0.7558035714285715\n",
            "<---- Epoch 36: 0m -27s ---->\n",
            "Train Loss: 0.16239689816446864, Train Accuracy: 0.9898897058823529\n",
            "Val Loss: 1.2300923824310304, Val Accuracy: 0.7049107142857143\n",
            "<---- Epoch 37: 0m -27s ---->\n",
            "Train Loss: 0.15868440577212503, Train Accuracy: 0.9889705882352942\n",
            "Val Loss: 1.1407384157180787, Val Accuracy: 0.6924107142857142\n",
            "<---- Epoch 38: 0m -27s ---->\n",
            "Train Loss: 0.16415997682248845, Train Accuracy: 0.9880514705882353\n",
            "Val Loss: 0.9739695250988006, Val Accuracy: 0.7526785714285714\n",
            "<---- Epoch 39: 0m -27s ---->\n",
            "Train Loss: 0.15520489741774166, Train Accuracy: 0.9935661764705882\n",
            "Val Loss: 1.305392038822174, Val Accuracy: 0.6540178571428571\n",
            "<---- Epoch 40: 0m -27s ---->\n",
            "Train Loss: 0.15348556155667586, Train Accuracy: 0.9917279411764706\n",
            "Val Loss: 0.9492801070213318, Val Accuracy: 0.7495535714285715\n",
            "<---- Epoch 41: 0m -27s ---->\n",
            "Train Loss: 0.15108981553245993, Train Accuracy: 0.9917279411764706\n",
            "Val Loss: 1.1297205209732055, Val Accuracy: 0.7334821428571429\n",
            "<---- Epoch 42: 0m -27s ---->\n",
            "Train Loss: 0.1471474232042537, Train Accuracy: 0.9944852941176471\n",
            "Val Loss: 1.0259814620018006, Val Accuracy: 0.7526785714285714\n",
            "<---- Epoch 43: 0m -27s ---->\n",
            "Train Loss: 0.14428120500901165, Train Accuracy: 0.9954044117647058\n",
            "Val Loss: 1.0152820825576783, Val Accuracy: 0.7209821428571429\n",
            "<---- Epoch 44: 0m -27s ---->\n",
            "Train Loss: 0.15066103900180144, Train Accuracy: 0.9917279411764706\n",
            "Val Loss: 1.1034021973609924, Val Accuracy: 0.7049107142857143\n",
            "<---- Epoch 45: 0m -27s ---->\n",
            "Train Loss: 0.14412522622767618, Train Accuracy: 0.9954044117647058\n",
            "Val Loss: 0.9909937858581543, Val Accuracy: 0.7303571428571429\n",
            "<---- Epoch 46: 0m -27s ---->\n",
            "Train Loss: 0.14868966796818903, Train Accuracy: 0.9917279411764706\n",
            "Val Loss: 1.272548758983612, Val Accuracy: 0.7080357142857142\n",
            "<---- Epoch 47: 0m -27s ---->\n",
            "Train Loss: 0.13965106886975906, Train Accuracy: 0.9944852941176471\n",
            "Val Loss: 1.1832141876220703, Val Accuracy: 0.7303571428571429\n",
            "<---- Epoch 48: 0m -27s ---->\n",
            "Train Loss: 0.13590206337325714, Train Accuracy: 0.9954044117647058\n",
            "Val Loss: 0.8677925348281861, Val Accuracy: 0.78125\n",
            "<---- Epoch 49: 0m -27s ---->\n",
            "Train Loss: 0.14237409654785604, Train Accuracy: 0.9954044117647058\n",
            "Val Loss: 1.2575271368026733, Val Accuracy: 0.7236607142857142\n",
            "<---- Epoch 50: 0m -27s ---->\n",
            "Train Loss: 0.14311973838245168, Train Accuracy: 0.9917279411764706\n",
            "Val Loss: 0.9245320737361908, Val Accuracy: 0.778125\n",
            "<---- Epoch 51: 0m -27s ---->\n",
            "Train Loss: 0.14466586665195577, Train Accuracy: 0.9908088235294118\n",
            "Val Loss: 0.9561204671859741, Val Accuracy: 0.7334821428571429\n",
            "<---- Epoch 52: 0m -27s ---->\n",
            "Train Loss: 0.1331906919093693, Train Accuracy: 0.9972426470588235\n",
            "Val Loss: 0.8707853794097901, Val Accuracy: 0.790625\n",
            "<---- Epoch 53: 0m -27s ---->\n",
            "Train Loss: 0.13631392095018835, Train Accuracy: 0.9935661764705882\n",
            "Val Loss: 0.901201331615448, Val Accuracy: 0.7714285714285715\n",
            "<---- Epoch 54: 0m -27s ---->\n",
            "Train Loss: 0.13675959627417958, Train Accuracy: 0.9963235294117647\n",
            "Val Loss: 0.8962482988834382, Val Accuracy: 0.7651785714285715\n",
            "<---- Epoch 55: 0m -27s ---->\n",
            "Train Loss: 0.13729740723091013, Train Accuracy: 0.9944852941176471\n",
            "Val Loss: 0.9603553652763367, Val Accuracy: 0.7366071428571429\n",
            "<---- Epoch 56: 0m -27s ---->\n",
            "Train Loss: 0.13289262485854766, Train Accuracy: 0.9963235294117647\n",
            "Val Loss: 1.1810093522071838, Val Accuracy: 0.7205357142857143\n",
            "<---- Epoch 57: 0m -27s ---->\n",
            "Train Loss: 0.1341953851720866, Train Accuracy: 0.9889705882352942\n",
            "Val Loss: 0.9432975053787231, Val Accuracy: 0.7428571428571429\n",
            "<---- Epoch 58: 0m -27s ---->\n",
            "Train Loss: 0.1297075950047549, Train Accuracy: 0.9972426470588235\n",
            "Val Loss: 1.1069285869598389, Val Accuracy: 0.7491071428571429\n",
            "<---- Epoch 59: 0m -27s ---->\n",
            "Train Loss: 0.12643496429218964, Train Accuracy: 0.9944852941176471\n",
            "Val Loss: 0.961308217048645, Val Accuracy: 0.7334821428571429\n",
            "<---- Epoch 60: 0m -27s ---->\n",
            "Train Loss: 0.12686452181900248, Train Accuracy: 0.9935661764705882\n",
            "Val Loss: 0.9508110165596009, Val Accuracy: 0.7683035714285714\n",
            "<---- Epoch 61: 0m -27s ---->\n",
            "Train Loss: 0.11163588175002266, Train Accuracy: 0.9972426470588235\n",
            "Val Loss: 0.828815358877182, Val Accuracy: 0.79375\n",
            "<---- Epoch 62: 0m -27s ---->\n",
            "Train Loss: 0.10608974493601743, Train Accuracy: 0.9963235294117647\n",
            "Val Loss: 0.9185530543327332, Val Accuracy: 0.7428571428571429\n",
            "<---- Epoch 63: 0m -27s ---->\n",
            "Train Loss: 0.1101960763335228, Train Accuracy: 0.9944852941176471\n",
            "Val Loss: 1.0392603516578673, Val Accuracy: 0.7236607142857142\n",
            "<---- Epoch 64: 0m -27s ---->\n",
            "Train Loss: 0.105915186159751, Train Accuracy: 0.9972426470588235\n",
            "Val Loss: 0.851543664932251, Val Accuracy: 0.7776785714285714\n",
            "<---- Epoch 65: 0m -27s ---->\n",
            "Train Loss: 0.10696158076033872, Train Accuracy: 0.9972426470588235\n",
            "Val Loss: 1.0930302381515502, Val Accuracy: 0.7267857142857143\n",
            "<---- Epoch 66: 0m -27s ---->\n",
            "Train Loss: 0.10556289203026716, Train Accuracy: 0.9990808823529411\n",
            "Val Loss: 1.0513825416564941, Val Accuracy: 0.7459821428571429\n",
            "<---- Epoch 67: 0m -27s ---->\n",
            "Train Loss: 0.10691225616370931, Train Accuracy: 0.9972426470588235\n",
            "Val Loss: 0.831530973315239, Val Accuracy: 0.803125\n",
            "<---- Epoch 68: 0m -27s ---->\n",
            "Train Loss: 0.10900142613579245, Train Accuracy: 0.9963235294117647\n",
            "Val Loss: 0.8444387197494507, Val Accuracy: 0.79375\n",
            "<---- Epoch 69: 0m -27s ---->\n",
            "Train Loss: 0.11587441318175372, Train Accuracy: 0.9972426470588235\n",
            "Val Loss: 0.9024091601371765, Val Accuracy: 0.7651785714285715\n",
            "<---- Epoch 70: 0m -27s ---->\n",
            "Train Loss: 0.10694754649611081, Train Accuracy: 0.9963235294117647\n",
            "Val Loss: 1.0734248042106629, Val Accuracy: 0.7267857142857143\n",
            "<---- Epoch 71: 0m -27s ---->\n",
            "Train Loss: 0.10921461880207062, Train Accuracy: 0.9954044117647058\n",
            "Val Loss: 1.003203809261322, Val Accuracy: 0.7236607142857142\n",
            "<---- Epoch 72: 0m -27s ---->\n",
            "Train Loss: 0.10646600845982046, Train Accuracy: 0.9972426470588235\n",
            "Val Loss: 1.0303043365478515, Val Accuracy: 0.7491071428571429\n",
            "<---- Epoch 73: 0m -27s ---->\n",
            "Train Loss: 0.10510215601500343, Train Accuracy: 0.9954044117647058\n",
            "Val Loss: 0.836437052488327, Val Accuracy: 0.803125\n",
            "<---- Epoch 74: 0m -27s ---->\n",
            "Train Loss: 0.10966259197277181, Train Accuracy: 0.9981617647058824\n",
            "Val Loss: 0.9120946526527405, Val Accuracy: 0.7459821428571429\n",
            "<---- Epoch 75: 0m -27s ---->\n",
            "Train Loss: 0.10987570268266342, Train Accuracy: 0.9963235294117647\n",
            "Val Loss: 0.9033631920814514, Val Accuracy: 0.7714285714285715\n",
            "<---- Epoch 76: 0m -27s ---->\n",
            "Train Loss: 0.10836145632407244, Train Accuracy: 0.9954044117647058\n",
            "Val Loss: 0.9782893061637878, Val Accuracy: 0.7459821428571429\n",
            "<---- Epoch 77: 0m -27s ---->\n",
            "Train Loss: 0.10681986151372685, Train Accuracy: 0.9981617647058824\n",
            "Val Loss: 0.890862226486206, Val Accuracy: 0.7714285714285715\n",
            "<---- Epoch 78: 0m -27s ---->\n",
            "Train Loss: 0.10764256820959203, Train Accuracy: 0.9981617647058824\n",
            "Val Loss: 0.9751715540885926, Val Accuracy: 0.7459821428571429\n",
            "<---- Epoch 79: 0m -27s ---->\n",
            "Train Loss: 0.10844240469091079, Train Accuracy: 0.9972426470588235\n",
            "Val Loss: 0.9457460880279541, Val Accuracy: 0.7236607142857142\n",
            "<---- Epoch 80: 0m -27s ---->\n",
            "Train Loss: 0.10852211889098673, Train Accuracy: 0.9972426470588235\n",
            "Val Loss: 1.130822229385376, Val Accuracy: 0.7459821428571429\n",
            "<---- Epoch 81: 0m -27s ---->\n",
            "Train Loss: 0.10711809291559107, Train Accuracy: 0.9981617647058824\n",
            "Val Loss: 1.0542858123779297, Val Accuracy: 0.7205357142857143\n",
            "<---- Epoch 82: 0m -27s ---->\n",
            "Train Loss: 0.10762825082330142, Train Accuracy: 0.9981617647058824\n",
            "Val Loss: 0.8878374934196472, Val Accuracy: 0.7683035714285714\n",
            "<---- Epoch 83: 0m -27s ---->\n",
            "Train Loss: 0.10944876074790955, Train Accuracy: 0.9981617647058824\n",
            "Val Loss: 0.8852528095245361, Val Accuracy: 0.7745535714285714\n",
            "<---- Epoch 84: 0m -27s ---->\n",
            "Train Loss: 0.10935315884211484, Train Accuracy: 0.9981617647058824\n",
            "Val Loss: 0.8202457308769227, Val Accuracy: 0.8\n",
            "<---- Epoch 85: 0m -27s ---->\n",
            "Train Loss: 0.10916536958778605, Train Accuracy: 0.9981617647058824\n",
            "Val Loss: 0.8928707242012024, Val Accuracy: 0.7459821428571429\n",
            "<---- Epoch 86: 0m -27s ---->\n",
            "Train Loss: 0.10988103642183192, Train Accuracy: 0.9963235294117647\n",
            "Val Loss: 1.0611639976501466, Val Accuracy: 0.7459821428571429\n",
            "<---- Epoch 87: 0m -27s ---->\n",
            "Train Loss: 0.10554411218446844, Train Accuracy: 0.9981617647058824\n",
            "Val Loss: 1.1577904939651489, Val Accuracy: 0.7236607142857142\n",
            "<---- Epoch 88: 0m -27s ---->\n",
            "Train Loss: 0.10767390184542712, Train Accuracy: 0.9972426470588235\n",
            "Val Loss: 1.0581620693206788, Val Accuracy: 0.7205357142857143\n",
            "<---- Epoch 89: 0m -27s ---->\n",
            "Train Loss: 0.10863710150999181, Train Accuracy: 0.9981617647058824\n",
            "Val Loss: 0.9917443275451661, Val Accuracy: 0.7745535714285714\n",
            "<---- Epoch 90: 0m -27s ---->\n",
            "Train Loss: 0.1068950760013917, Train Accuracy: 0.9972426470588235\n",
            "Val Loss: 0.9076873421669006, Val Accuracy: 0.7714285714285715\n",
            "<---- Epoch 91: 0m -27s ---->\n",
            "Train Loss: 0.1086573508732459, Train Accuracy: 0.9972426470588235\n",
            "Val Loss: 1.1504906058311462, Val Accuracy: 0.7428571428571429\n",
            "<---- Epoch 92: 0m -27s ---->\n",
            "Train Loss: 0.10852629472227658, Train Accuracy: 0.9954044117647058\n",
            "Val Loss: 1.1597699999809266, Val Accuracy: 0.7236607142857142\n",
            "<---- Epoch 93: 0m -27s ---->\n",
            "Train Loss: 0.10808686473790337, Train Accuracy: 0.9963235294117647\n",
            "Val Loss: 0.9986633062362671, Val Accuracy: 0.6982142857142857\n",
            "<---- Epoch 94: 0m -27s ---->\n",
            "Train Loss: 0.10808324156438603, Train Accuracy: 0.9972426470588235\n",
            "Val Loss: 0.9657523989677429, Val Accuracy: 0.7459821428571429\n",
            "<---- Epoch 95: 0m -27s ---->\n",
            "Train Loss: 0.10796979332671446, Train Accuracy: 0.9981617647058824\n",
            "Val Loss: 1.2768982529640198, Val Accuracy: 0.6950892857142856\n",
            "<---- Epoch 96: 0m -27s ---->\n",
            "Train Loss: 0.1059934444287244, Train Accuracy: 0.9972426470588235\n",
            "Val Loss: 0.8345725625753403, Val Accuracy: 0.79375\n",
            "<---- Epoch 97: 0m -27s ---->\n",
            "Train Loss: 0.10274067915537778, Train Accuracy: 0.9981617647058824\n",
            "Val Loss: 0.861107224225998, Val Accuracy: 0.796875\n",
            "<---- Epoch 98: 0m -27s ---->\n",
            "Train Loss: 0.10763140066581614, Train Accuracy: 0.9981617647058824\n",
            "Val Loss: 0.9794325828552246, Val Accuracy: 0.7745535714285714\n",
            "<---- Epoch 99: 0m -27s ---->\n",
            "Train Loss: 0.10970990096821505, Train Accuracy: 0.9972426470588235\n",
            "Val Loss: 1.0419325232505798, Val Accuracy: 0.7459821428571429\n",
            "<---- Epoch 100: 0m -27s ---->\n",
            "Train Loss: 0.1109781480010818, Train Accuracy: 0.9990808823529411\n",
            "Val Loss: 0.8064584270119667, Val Accuracy: 0.8\n",
            "<---- Epoch 101: 0m -27s ---->\n",
            "Train Loss: 0.10605583559064304, Train Accuracy: 0.9972426470588235\n",
            "Val Loss: 0.8356193691492081, Val Accuracy: 0.79375\n",
            "<---- Epoch 102: 0m -27s ---->\n",
            "Train Loss: 0.11063178760163925, Train Accuracy: 0.9963235294117647\n",
            "Val Loss: 0.945883047580719, Val Accuracy: 0.7428571428571429\n",
            "<---- Epoch 103: 0m -27s ---->\n",
            "Train Loss: 0.10787971405421987, Train Accuracy: 0.9963235294117647\n",
            "Val Loss: 0.9370872497558593, Val Accuracy: 0.7459821428571429\n",
            "<---- Epoch 104: 0m -27s ---->\n",
            "Train Loss: 0.11014342790140826, Train Accuracy: 0.9972426470588235\n",
            "Val Loss: 0.9302485108375549, Val Accuracy: 0.7397321428571428\n",
            "<---- Epoch 105: 0m -27s ---->\n",
            "Train Loss: 0.10786920742076986, Train Accuracy: 0.9981617647058824\n",
            "Val Loss: 1.0115256309509277, Val Accuracy: 0.7142857142857142\n",
            "<---- Epoch 106: 0m -27s ---->\n",
            "Train Loss: 0.10621009153478286, Train Accuracy: 0.9963235294117647\n",
            "Val Loss: 0.8633839786052704, Val Accuracy: 0.7683035714285714\n",
            "<---- Epoch 107: 0m -27s ---->\n",
            "Train Loss: 0.10404796898365021, Train Accuracy: 0.9972426470588235\n",
            "Val Loss: 0.8945744454860687, Val Accuracy: 0.7397321428571428\n",
            "<---- Epoch 108: 0m -27s ---->\n",
            "Train Loss: 0.10591127986417097, Train Accuracy: 0.9972426470588235\n",
            "Val Loss: 1.266424798965454, Val Accuracy: 0.6857142857142857\n",
            "<---- Epoch 109: 0m -27s ---->\n",
            "Train Loss: 0.10659566477817647, Train Accuracy: 0.9963235294117647\n",
            "Val Loss: 1.1052682995796204, Val Accuracy: 0.7428571428571429\n",
            "<---- Epoch 110: 0m -27s ---->\n",
            "Train Loss: 0.10850797768901377, Train Accuracy: 0.9972426470588235\n",
            "Val Loss: 0.8191050484776496, Val Accuracy: 0.79375\n",
            "<---- Epoch 111: 0m -27s ---->\n",
            "Train Loss: 0.10057161091005101, Train Accuracy: 0.9990808823529411\n",
            "Val Loss: 1.1419241428375244, Val Accuracy: 0.7174107142857142\n",
            "<---- Epoch 112: 0m -27s ---->\n",
            "Train Loss: 0.10116014103679095, Train Accuracy: 0.9972426470588235\n",
            "Val Loss: 0.8980634331703186, Val Accuracy: 0.7397321428571428\n",
            "<---- Epoch 113: 0m -27s ---->\n",
            "Train Loss: 0.10511952375664431, Train Accuracy: 0.9963235294117647\n",
            "Val Loss: 1.020500612258911, Val Accuracy: 0.6888392857142857\n",
            "<---- Epoch 114: 0m -27s ---->\n",
            "Train Loss: 0.1078837645404479, Train Accuracy: 0.9972426470588235\n",
            "Val Loss: 1.2910486698150634, Val Accuracy: 0.7236607142857142\n",
            "<---- Epoch 115: 0m -27s ---->\n",
            "Train Loss: 0.10758206423591166, Train Accuracy: 0.9981617647058824\n",
            "Val Loss: 0.8943544149398803, Val Accuracy: 0.7459821428571429\n",
            "<---- Epoch 116: 0m -27s ---->\n",
            "Train Loss: 0.10776408235816394, Train Accuracy: 0.9981617647058824\n",
            "Val Loss: 1.0737937211990356, Val Accuracy: 0.7428571428571429\n",
            "<---- Epoch 117: 0m -27s ---->\n",
            "Train Loss: 0.10409295602756388, Train Accuracy: 0.9981617647058824\n",
            "Val Loss: 0.8456541568040847, Val Accuracy: 0.79375\n",
            "<---- Epoch 118: 0m -27s ---->\n",
            "Train Loss: 0.10498958212487838, Train Accuracy: 0.9981617647058824\n",
            "Val Loss: 0.9405096411705017, Val Accuracy: 0.7683035714285714\n",
            "<---- Epoch 119: 0m -27s ---->\n",
            "Train Loss: 0.1048556040315067, Train Accuracy: 0.9972426470588235\n",
            "Val Loss: 0.8749986469745636, Val Accuracy: 0.7683035714285714\n",
            "<---- Epoch 120: 0m -27s ---->\n",
            "Train Loss: 0.10752892757163328, Train Accuracy: 0.9981617647058824\n",
            "Val Loss: 0.871781975030899, Val Accuracy: 0.7651785714285715\n",
            "<---- Epoch 121: 0m -27s ---->\n",
            "Train Loss: 0.10406775246648227, Train Accuracy: 0.9990808823529411\n",
            "Val Loss: 0.8762322127819061, Val Accuracy: 0.7651785714285715\n",
            "<---- Epoch 122: 0m -27s ---->\n",
            "Train Loss: 0.10603197664022446, Train Accuracy: 0.9963235294117647\n",
            "Val Loss: 0.9355555176734924, Val Accuracy: 0.7683035714285714\n",
            "<---- Epoch 123: 0m -27s ---->\n",
            "Train Loss: 0.1044703787740539, Train Accuracy: 0.9972426470588235\n",
            "Val Loss: 1.0346317052841187, Val Accuracy: 0.7366071428571429\n",
            "<---- Epoch 124: 0m -27s ---->\n",
            "Train Loss: 0.10215507184757906, Train Accuracy: 0.9981617647058824\n",
            "Val Loss: 1.0998057126998901, Val Accuracy: 0.7174107142857142\n",
            "<---- Epoch 125: 0m -27s ---->\n",
            "Train Loss: 0.10033850240356781, Train Accuracy: 0.9981617647058824\n",
            "Val Loss: 0.8178201705217362, Val Accuracy: 0.79375\n",
            "<---- Epoch 126: 0m -27s ---->\n",
            "Train Loss: 0.0995089236427756, Train Accuracy: 0.9990808823529411\n",
            "Val Loss: 1.0750531911849976, Val Accuracy: 0.7620535714285714\n",
            "<---- Epoch 127: 0m -27s ---->\n",
            "Train Loss: 0.1034598525832681, Train Accuracy: 0.9963235294117647\n",
            "Val Loss: 1.180593490600586, Val Accuracy: 0.7205357142857143\n",
            "<---- Epoch 128: 0m -27s ---->\n",
            "Train Loss: 0.1042516753077507, Train Accuracy: 0.9981617647058824\n",
            "Val Loss: 1.0479103446006774, Val Accuracy: 0.7142857142857142\n",
            "<---- Epoch 129: 0m -27s ---->\n",
            "Train Loss: 0.10282290332457598, Train Accuracy: 0.9981617647058824\n",
            "Val Loss: 0.843935775756836, Val Accuracy: 0.79375\n",
            "<---- Epoch 130: 0m -27s ---->\n",
            "Train Loss: 0.10265055649420794, Train Accuracy: 0.9981617647058824\n",
            "Val Loss: 1.1668273210525513, Val Accuracy: 0.7397321428571428\n",
            "<---- Epoch 131: 0m -27s ---->\n",
            "Train Loss: 0.1023443893474691, Train Accuracy: 0.9981617647058824\n",
            "Val Loss: 0.9854941606521607, Val Accuracy: 0.7111607142857143\n",
            "<---- Epoch 132: 0m -27s ---->\n",
            "Train Loss: 0.09958644211292267, Train Accuracy: 0.9990808823529411\n",
            "Val Loss: 1.1679611325263977, Val Accuracy: 0.7174107142857142\n",
            "<---- Epoch 133: 0m -27s ---->\n",
            "Train Loss: 0.10241473597638748, Train Accuracy: 0.9990808823529411\n",
            "Val Loss: 0.9513529896736145, Val Accuracy: 0.7397321428571428\n",
            "<---- Epoch 134: 0m -27s ---->\n",
            "Train Loss: 0.10415502330836128, Train Accuracy: 0.9954044117647058\n",
            "Val Loss: 1.0195669174194335, Val Accuracy: 0.7397321428571428\n",
            "<---- Epoch 135: 0m -27s ---->\n",
            "Train Loss: 0.10229002421393114, Train Accuracy: 0.9972426470588235\n",
            "Val Loss: 0.8943498194217682, Val Accuracy: 0.7620535714285714\n",
            "<---- Epoch 136: 0m -27s ---->\n",
            "Train Loss: 0.10113669668926913, Train Accuracy: 0.9981617647058824\n",
            "Val Loss: 1.1090527176856995, Val Accuracy: 0.6888392857142857\n",
            "<---- Epoch 137: 0m -27s ---->\n",
            "Train Loss: 0.10306541227242526, Train Accuracy: 0.9972426470588235\n",
            "Val Loss: 1.0868406295776367, Val Accuracy: 0.7714285714285715\n",
            "<---- Epoch 138: 0m -27s ---->\n",
            "Train Loss: 0.10188907801228411, Train Accuracy: 0.9972426470588235\n",
            "Val Loss: 1.0486712098121642, Val Accuracy: 0.7428571428571429\n",
            "<---- Epoch 139: 0m -27s ---->\n",
            "Train Loss: 0.1027433429570759, Train Accuracy: 0.9990808823529411\n",
            "Val Loss: 0.9569077014923095, Val Accuracy: 0.7111607142857143\n",
            "<---- Epoch 140: 0m -27s ---->\n",
            "Train Loss: 0.10136385612628039, Train Accuracy: 0.9990808823529411\n",
            "Val Loss: 0.8845773220062256, Val Accuracy: 0.7651785714285715\n",
            "<---- Epoch 141: 0m -27s ---->\n",
            "Train Loss: 0.09879758691086489, Train Accuracy: 0.9981617647058824\n",
            "Val Loss: 0.8898260474205018, Val Accuracy: 0.7683035714285714\n",
            "<---- Epoch 142: 0m -27s ---->\n",
            "Train Loss: 0.09885422162273351, Train Accuracy: 0.9981617647058824\n",
            "Val Loss: 1.1905120134353637, Val Accuracy: 0.7142857142857142\n",
            "<---- Epoch 143: 0m -27s ---->\n",
            "Train Loss: 0.09992260924156975, Train Accuracy: 0.9972426470588235\n",
            "Val Loss: 1.1204216599464416, Val Accuracy: 0.7174107142857142\n",
            "<---- Epoch 144: 0m -27s ---->\n",
            "Train Loss: 0.10080329021986793, Train Accuracy: 0.9981617647058824\n",
            "Val Loss: 1.0949292659759522, Val Accuracy: 0.7142857142857142\n",
            "<---- Epoch 145: 0m -27s ---->\n",
            "Train Loss: 0.09756143654094022, Train Accuracy: 0.9990808823529411\n",
            "Val Loss: 0.8339349389076233, Val Accuracy: 0.784375\n",
            "<---- Epoch 146: 0m -27s ---->\n",
            "Train Loss: 0.10260575220865362, Train Accuracy: 0.9972426470588235\n",
            "Val Loss: 0.9314033150672912, Val Accuracy: 0.7620535714285714\n",
            "<---- Epoch 147: 0m -27s ---->\n",
            "Train Loss: 0.09882580357439377, Train Accuracy: 0.9981617647058824\n",
            "Val Loss: 0.9236489057540893, Val Accuracy: 0.7620535714285714\n",
            "<---- Epoch 148: 0m -27s ---->\n",
            "Train Loss: 0.10139081627130508, Train Accuracy: 0.9981617647058824\n",
            "Val Loss: 0.8697886288166046, Val Accuracy: 0.7875\n",
            "<---- Epoch 149: 0m -27s ---->\n",
            "Train Loss: 0.10286808627493241, Train Accuracy: 0.9981617647058824\n",
            "Val Loss: 1.1557971119880677, Val Accuracy: 0.7397321428571428\n",
            "<---- Epoch 150: 0m -27s ---->\n",
            "Train Loss: 0.10525401374872993, Train Accuracy: 0.9972426470588235\n",
            "Val Loss: 1.1081059336662293, Val Accuracy: 0.6857142857142857\n",
            "<---- Epoch 151: 0m -27s ---->\n",
            "Train Loss: 0.09411374304224462, Train Accuracy: 0.9963235294117647\n",
            "Val Loss: 1.0488813638687133, Val Accuracy: 0.7366071428571429\n",
            "<---- Epoch 152: 0m -27s ---->\n",
            "Train Loss: 0.09755487827693715, Train Accuracy: 0.9981617647058824\n",
            "Val Loss: 0.914103764295578, Val Accuracy: 0.7334821428571429\n",
            "<---- Epoch 153: 0m -27s ---->\n",
            "Train Loss: 0.09670233156751185, Train Accuracy: 0.9981617647058824\n",
            "Val Loss: 0.9466621041297912, Val Accuracy: 0.7366071428571429\n",
            "<---- Epoch 154: 0m -27s ---->\n",
            "Train Loss: 0.09645581070114584, Train Accuracy: 0.9972426470588235\n",
            "Val Loss: 1.0258509874343873, Val Accuracy: 0.7397321428571428\n",
            "<---- Epoch 155: 0m -27s ---->\n",
            "Train Loss: 0.09724417942411759, Train Accuracy: 0.9990808823529411\n",
            "Val Loss: 0.9699429988861084, Val Accuracy: 0.7334821428571429\n",
            "<---- Epoch 156: 0m -27s ---->\n",
            "Train Loss: 0.09422504507443484, Train Accuracy: 0.9972426470588235\n",
            "Val Loss: 0.9036223769187928, Val Accuracy: 0.7620535714285714\n",
            "<---- Epoch 157: 0m -27s ---->\n",
            "Train Loss: 0.09706726012861028, Train Accuracy: 0.9981617647058824\n",
            "Val Loss: 0.9250169038772583, Val Accuracy: 0.7366071428571429\n",
            "<---- Epoch 158: 0m -27s ---->\n",
            "Train Loss: 0.09808627296896542, Train Accuracy: 0.9963235294117647\n",
            "Val Loss: 0.8663421452045441, Val Accuracy: 0.7620535714285714\n",
            "<---- Epoch 159: 0m -27s ---->\n",
            "Train Loss: 0.09925221169696134, Train Accuracy: 0.9981617647058824\n",
            "Val Loss: 1.0650443196296693, Val Accuracy: 0.7334821428571429\n",
            "<---- Epoch 160: 0m -27s ---->\n",
            "Train Loss: 0.09739162246970569, Train Accuracy: 0.9981617647058824\n",
            "Val Loss: 0.9897290468215942, Val Accuracy: 0.7080357142857142\n",
            "<---- Epoch 161: 0m -27s ---->\n",
            "Train Loss: 0.09803228912984624, Train Accuracy: 0.9981617647058824\n",
            "Val Loss: 0.9409848213195801, Val Accuracy: 0.7366071428571429\n",
            "<---- Epoch 162: 0m -27s ---->\n",
            "Train Loss: 0.09600150344126365, Train Accuracy: 0.9981617647058824\n",
            "Val Loss: 0.9385406494140625, Val Accuracy: 0.7620535714285714\n",
            "<---- Epoch 163: 0m -27s ---->\n",
            "Train Loss: 0.09762968648882474, Train Accuracy: 0.9981617647058824\n",
            "Val Loss: 0.9875722765922547, Val Accuracy: 0.7397321428571428\n",
            "<---- Epoch 164: 0m -27s ---->\n",
            "Train Loss: 0.09419790173278135, Train Accuracy: 0.9990808823529411\n",
            "Val Loss: 0.8811121225357056, Val Accuracy: 0.7589285714285714\n",
            "<---- Epoch 165: 0m -27s ---->\n",
            "Train Loss: 0.09721334979814641, Train Accuracy: 0.9972426470588235\n",
            "Val Loss: 0.9866021037101745, Val Accuracy: 0.7428571428571429\n",
            "<---- Epoch 166: 0m -27s ---->\n",
            "Train Loss: 0.09468292357290492, Train Accuracy: 0.9981617647058824\n",
            "Val Loss: 0.8268719881772995, Val Accuracy: 0.7875\n",
            "<---- Epoch 167: 0m -27s ---->\n",
            "Train Loss: 0.09309699035742704, Train Accuracy: 0.9981617647058824\n",
            "Val Loss: 0.9307525873184204, Val Accuracy: 0.7334821428571429\n",
            "<---- Epoch 168: 0m -27s ---->\n",
            "Train Loss: 0.0971141483853845, Train Accuracy: 0.9990808823529411\n",
            "Val Loss: 0.9424060463905335, Val Accuracy: 0.7397321428571428\n",
            "<---- Epoch 169: 0m -27s ---->\n",
            "Train Loss: 0.09943943470716476, Train Accuracy: 0.9972426470588235\n",
            "Val Loss: 0.8952585101127625, Val Accuracy: 0.7620535714285714\n",
            "<---- Epoch 170: 0m -27s ---->\n",
            "Train Loss: 0.09354364915805705, Train Accuracy: 0.9972426470588235\n",
            "Val Loss: 1.1409269094467163, Val Accuracy: 0.7366071428571429\n",
            "<---- Epoch 171: 0m -27s ---->\n",
            "Train Loss: 0.09585014117114685, Train Accuracy: 0.9990808823529411\n",
            "Val Loss: 0.8925862967967987, Val Accuracy: 0.7620535714285714\n",
            "<---- Epoch 172: 0m -27s ---->\n",
            "Train Loss: 0.09678065250901614, Train Accuracy: 0.9972426470588235\n",
            "Val Loss: 1.045750653743744, Val Accuracy: 0.7111607142857143\n",
            "<---- Epoch 173: 0m -27s ---->\n",
            "Train Loss: 0.09594975105103325, Train Accuracy: 0.9981617647058824\n",
            "Val Loss: 0.8867260456085205, Val Accuracy: 0.7589285714285714\n",
            "<---- Epoch 174: 0m -27s ---->\n",
            "Train Loss: 0.09754681017468958, Train Accuracy: 0.9972426470588235\n",
            "Val Loss: 0.974315595626831, Val Accuracy: 0.7589285714285714\n",
            "<---- Epoch 175: 0m -27s ---->\n",
            "Train Loss: 0.09420696383013445, Train Accuracy: 0.9981617647058824\n",
            "Val Loss: 0.9905893921852111, Val Accuracy: 0.7620535714285714\n",
            "<---- Epoch 176: 0m -27s ---->\n",
            "Train Loss: 0.09648964948513929, Train Accuracy: 0.9972426470588235\n",
            "Val Loss: 1.0569041848182679, Val Accuracy: 0.6825892857142857\n",
            "<---- Epoch 177: 0m -27s ---->\n",
            "Train Loss: 0.09743557914214976, Train Accuracy: 0.9990808823529411\n",
            "Val Loss: 0.9787757277488709, Val Accuracy: 0.7651785714285715\n",
            "<---- Epoch 178: 0m -27s ---->\n",
            "Train Loss: 0.0999997367753702, Train Accuracy: 0.9972426470588235\n",
            "Val Loss: 1.0684695363044738, Val Accuracy: 0.7080357142857142\n",
            "<---- Epoch 179: 0m -27s ---->\n",
            "Train Loss: 0.09347381815314293, Train Accuracy: 0.9972426470588235\n",
            "Val Loss: 1.0591953635215758, Val Accuracy: 0.7334821428571429\n",
            "<---- Epoch 180: 0m -27s ---->\n",
            "Train Loss: 0.09788184262373868, Train Accuracy: 0.9963235294117647\n",
            "Val Loss: 0.8421403110027313, Val Accuracy: 0.7875\n",
            "<---- Epoch 181: 0m -27s ---->\n",
            "Train Loss: 0.09348289186463636, Train Accuracy: 0.9972426470588235\n",
            "Val Loss: 1.0258602261543275, Val Accuracy: 0.7080357142857142\n",
            "<---- Epoch 182: 0m -27s ---->\n",
            "Train Loss: 0.09511233668993502, Train Accuracy: 0.9972426470588235\n",
            "Val Loss: 1.070439100265503, Val Accuracy: 0.7397321428571428\n",
            "<---- Epoch 183: 0m -27s ---->\n",
            "Train Loss: 0.09544448466861949, Train Accuracy: 0.9972426470588235\n",
            "Val Loss: 0.9896966457366944, Val Accuracy: 0.7589285714285714\n",
            "<---- Epoch 184: 0m -27s ---->\n",
            "Train Loss: 0.09619317159933202, Train Accuracy: 0.9981617647058824\n",
            "Val Loss: 0.9739417552947998, Val Accuracy: 0.7366071428571429\n",
            "<---- Epoch 185: 0m -27s ---->\n",
            "Train Loss: 0.09895895114716362, Train Accuracy: 0.9963235294117647\n",
            "Val Loss: 0.936017918586731, Val Accuracy: 0.7620535714285714\n",
            "<---- Epoch 186: 0m -27s ---->\n",
            "Train Loss: 0.09340082284282236, Train Accuracy: 0.9981617647058824\n",
            "Val Loss: 0.8613203704357147, Val Accuracy: 0.7875\n",
            "<---- Epoch 187: 0m -27s ---->\n",
            "Train Loss: 0.09415068433565252, Train Accuracy: 0.9981617647058824\n",
            "Val Loss: 1.325462520122528, Val Accuracy: 0.7080357142857142\n",
            "<---- Epoch 188: 0m -27s ---->\n",
            "Train Loss: 0.09213436789372388, Train Accuracy: 0.9981617647058824\n",
            "Val Loss: 0.9665652871131897, Val Accuracy: 0.7111607142857143\n",
            "<---- Epoch 189: 0m -27s ---->\n",
            "Train Loss: 0.09346181855482213, Train Accuracy: 0.9990808823529411\n",
            "Val Loss: 0.9435330510139466, Val Accuracy: 0.7366071428571429\n",
            "<---- Epoch 190: 0m -27s ---->\n",
            "Train Loss: 0.09644359722733498, Train Accuracy: 0.9972426470588235\n",
            "Val Loss: 0.9069801568984985, Val Accuracy: 0.7620535714285714\n",
            "<---- Epoch 191: 0m -27s ---->\n",
            "Train Loss: 0.09649551111985655, Train Accuracy: 0.9972426470588235\n",
            "Val Loss: 1.0492977499961853, Val Accuracy: 0.7111607142857143\n",
            "<---- Epoch 192: 0m -27s ---->\n",
            "Train Loss: 0.09593514791306328, Train Accuracy: 0.9981617647058824\n",
            "Val Loss: 0.883609390258789, Val Accuracy: 0.7620535714285714\n",
            "<---- Epoch 193: 0m -27s ---->\n",
            "Train Loss: 0.09862284187008352, Train Accuracy: 0.9990808823529411\n",
            "Val Loss: 0.9727688789367676, Val Accuracy: 0.7620535714285714\n",
            "<---- Epoch 194: 0m -27s ---->\n",
            "Train Loss: 0.09311521009487264, Train Accuracy: 0.9981617647058824\n",
            "Val Loss: 1.0191634893417358, Val Accuracy: 0.7366071428571429\n",
            "<---- Epoch 195: 0m -27s ---->\n",
            "Train Loss: 0.09606483140412499, Train Accuracy: 0.9981617647058824\n",
            "Val Loss: 0.9321040868759155, Val Accuracy: 0.7651785714285715\n",
            "<---- Epoch 196: 0m -27s ---->\n",
            "Train Loss: 0.09499098842634875, Train Accuracy: 0.9972426470588235\n",
            "Val Loss: 1.0682672619819642, Val Accuracy: 0.7111607142857143\n",
            "<---- Epoch 197: 0m -27s ---->\n",
            "Train Loss: 0.09470760931863505, Train Accuracy: 0.9972426470588235\n",
            "Val Loss: 0.9076942920684814, Val Accuracy: 0.7620535714285714\n",
            "<---- Epoch 198: 0m -27s ---->\n",
            "Train Loss: 0.09465843198053978, Train Accuracy: 0.9972426470588235\n",
            "Val Loss: 0.8800750076770782, Val Accuracy: 0.7620535714285714\n",
            "<---- Epoch 199: 0m -27s ---->\n",
            "Train Loss: 0.09611878061995786, Train Accuracy: 0.9981617647058824\n",
            "Val Loss: 1.079181468486786, Val Accuracy: 0.7366071428571429\n",
            "<---- Epoch 200: 0m -27s ---->\n",
            "Train Loss: 0.0962503846077358, Train Accuracy: 0.9990808823529411\n",
            "Val Loss: 1.0992674589157105, Val Accuracy: 0.7397321428571428\n"
          ]
        }
      ],
      "source": [
        "EPOCHS=200\n",
        "trainer = Trainer(epochs=EPOCHS)\n",
        "history = trainer.fit(train_dataloader, test_dataloader, model)"
      ]
    },
    {
      "cell_type": "code",
      "source": [
        "g1 = sns.lineplot(x=range(0, 200), y=history[\"train\"][\"loss\"])\n",
        "g2 = sns.lineplot(x=range(0, 200), y=history[\"val\"][\"loss\"])\n",
        "plt.xlabel(\"Epochs\")\n",
        "plt.ylabel(\"Loss\")\n",
        "plt.legend([\"Train\", \"Validation\"])\n",
        "plt.show()"
      ],
      "metadata": {
        "id": "u37iiE7Xw4cE",
        "colab": {
          "base_uri": "https://localhost:8080/",
          "height": 282
        },
        "outputId": "bd88aeec-3b69-4a55-ea79-573bb01208b8"
      },
      "id": "u37iiE7Xw4cE",
      "execution_count": 25,
      "outputs": [
        {
          "output_type": "display_data",
          "data": {
            "text/plain": [
              "<Figure size 432x288 with 1 Axes>"
            ],
            "image/png": "[encoded data removed]"
          },
          "metadata": {
            "needs_background": "light"
          }
        }
      ]
    },
    {
      "cell_type": "code",
      "source": [
        "g1 = sns.lineplot(x=range(0, 200), y=history[\"train\"][\"accuracy\"])\n",
        "g2 = sns.lineplot(x=range(0, 200), y=history[\"val\"][\"accuracy\"])\n",
        "plt.xlabel(\"Epochs\")\n",
        "plt.ylabel(\"Accuracy\")\n",
        "plt.legend([\"Train\", \"Validation\"])\n",
        "plt.show()"
      ],
      "metadata": {
        "id": "u0nw2GvGKVBa",
        "colab": {
          "base_uri": "https://localhost:8080/",
          "height": 279
        },
        "outputId": "e08f73d2-a3cf-4d6a-f6df-7214a48617bc"
      },
      "id": "u0nw2GvGKVBa",
      "execution_count": 26,
      "outputs": [
        {
          "output_type": "display_data",
          "data": {
            "text/plain": [
              "<Figure size 432x288 with 1 Axes>"
            ],
            "image/png": "[encoded data removed]"
          },
          "metadata": {
            "needs_background": "light"
          }
        }
      ]
    },
    {
      "cell_type": "code",
      "source": [
        "trainer = Trainer(epochs=EPOCHS)\n",
        "trainer.load_checkpoint(epoch=73)"
      ],
      "metadata": {
        "id": "Vcn96tWqDmgk"
      },
      "id": "Vcn96tWqDmgk",
      "execution_count": 42,
      "outputs": []
    },
    {
      "cell_type": "code",
      "source": [
        "acc, y_pred, y = trainer.evaluate(test_dataloader)\n",
        "print(f\"Test Accuracy: {acc}\")"
      ],
      "metadata": {
        "id": "cwQDDHDOr4y-",
        "colab": {
          "base_uri": "https://localhost:8080/"
        },
        "outputId": "ca8e60a0-d0cb-4b99-c774-bdef74674599"
      },
      "id": "cwQDDHDOr4y-",
      "execution_count": 43,
      "outputs": [
        {
          "output_type": "stream",
          "name": "stdout",
          "text": [
            "Test Accuracy: 0.7776785714285714\n"
          ]
        }
      ]
    },
    {
      "cell_type": "code",
      "source": [
        "fig = plt.figure(figsize = (10, 10))\n",
        "ax = fig.add_subplot(1, 1, 1)\n",
        "cm = confusion_matrix(y.astype(int), y_pred.astype(int))\n",
        "cm = ConfusionMatrixDisplay(cm, display_labels = CLASSES)\n",
        "cm.plot(values_format = 'd', cmap = 'Blues', ax = ax)\n",
        "plt.xticks(rotation = 45)\n",
        "plt.show()"
      ],
      "metadata": {
        "id": "bKxhhmSZxCm0",
        "colab": {
          "base_uri": "https://localhost:8080/",
          "height": 625
        },
        "outputId": "c9b40c89-97d9-4f5c-cf3e-fcc7e7c7d7b6"
      },
      "id": "bKxhhmSZxCm0",
      "execution_count": 45,
      "outputs": [
        {
          "output_type": "display_data",
          "data": {
            "text/plain": [
              "<Figure size 720x720 with 2 Axes>"
            ],
            "image/png": "[encoded data removed]"
          },
          "metadata": {
            "needs_background": "light"
          }
        }
      ]
    },
    {
      "cell_type": "code",
      "source": [],
      "metadata": {
        "id": "5n5NsT0tStEa"
      },
      "id": "5n5NsT0tStEa",
      "execution_count": 29,
      "outputs": []
    }
  ],
  "metadata": {
    "kernelspec": {
      "display_name": "Python 3 (ipykernel)",
      "language": "python",
      "name": "python3"
    },
    "language_info": {
      "codemirror_mode": {
        "name": "ipython",
        "version": 3
      },
      "file_extension": ".py",
      "mimetype": "text/x-python",
      "name": "python",
      "nbconvert_exporter": "python",
      "pygments_lexer": "ipython3",
      "version": "3.9.6"
    },
    "colab": {
      "provenance": [],
      "machine_shape": "hm"
    },
    "accelerator": "GPU",
    "gpuClass": "standard"
  },
  "nbformat": 4,
  "nbformat_minor": 5
}