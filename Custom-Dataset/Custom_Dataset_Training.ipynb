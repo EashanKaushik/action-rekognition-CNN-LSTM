{
  "cells": [
    {
      "cell_type": "markdown",
      "source": [
        "# Check Runtime"
      ],
      "metadata": {
        "id": "VhGbxfqYeNMo"
      },
      "id": "VhGbxfqYeNMo"
    },
    {
      "cell_type": "code",
      "source": [
        "gpu_info = !nvidia-smi\n",
        "gpu_info = '\\n'.join(gpu_info)\n",
        "if gpu_info.find('failed') >= 0:\n",
        "  print('Not connected to a GPU')\n",
        "else:\n",
        "  print(gpu_info)"
      ],
      "metadata": {
        "colab": {
          "base_uri": "https://localhost:8080/"
        },
        "id": "QSVsRIEfobdt",
        "outputId": "afc2a5ed-8906-4b56-bed0-6bd3efa1494f"
      },
      "id": "QSVsRIEfobdt",
      "execution_count": 1,
      "outputs": [
        {
          "output_type": "stream",
          "name": "stdout",
          "text": [
            "Tue Nov 22 00:52:40 2022       \n",
            "+-----------------------------------------------------------------------------+\n",
            "| NVIDIA-SMI 460.32.03    Driver Version: 460.32.03    CUDA Version: 11.2     |\n",
            "|-------------------------------+----------------------+----------------------+\n",
            "| GPU  Name        Persistence-M| Bus-Id        Disp.A | Volatile Uncorr. ECC |\n",
            "| Fan  Temp  Perf  Pwr:Usage/Cap|         Memory-Usage | GPU-Util  Compute M. |\n",
            "|                               |                      |               MIG M. |\n",
            "|===============================+======================+======================|\n",
            "|   0  Tesla T4            Off  | 00000000:00:04.0 Off |                    0 |\n",
            "| N/A   69C    P0    29W /  70W |      0MiB / 15109MiB |      0%      Default |\n",
            "|                               |                      |                  N/A |\n",
            "+-------------------------------+----------------------+----------------------+\n",
            "                                                                               \n",
            "+-----------------------------------------------------------------------------+\n",
            "| Processes:                                                                  |\n",
            "|  GPU   GI   CI        PID   Type   Process name                  GPU Memory |\n",
            "|        ID   ID                                                   Usage      |\n",
            "|=============================================================================|\n",
            "|  No running processes found                                                 |\n",
            "+-----------------------------------------------------------------------------+\n"
          ]
        }
      ]
    },
    {
      "cell_type": "code",
      "source": [
        "from psutil import virtual_memory\n",
        "ram_gb = virtual_memory().total / 1e9\n",
        "print('Your runtime has {:.1f} gigabytes of available RAM\\n'.format(ram_gb))\n",
        "\n",
        "if ram_gb < 20:\n",
        "  print('Not using a high-RAM runtime')\n",
        "else:\n",
        "  print('You are using a high-RAM runtime!')"
      ],
      "metadata": {
        "colab": {
          "base_uri": "https://localhost:8080/"
        },
        "id": "0s1ZgDB3ofOK",
        "outputId": "bcccd770-cefe-4bfc-9be5-611f37007344"
      },
      "id": "0s1ZgDB3ofOK",
      "execution_count": 2,
      "outputs": [
        {
          "output_type": "stream",
          "name": "stdout",
          "text": [
            "Your runtime has 27.3 gigabytes of available RAM\n",
            "\n",
            "You are using a high-RAM runtime!\n"
          ]
        }
      ]
    },
    {
      "cell_type": "markdown",
      "source": [
        "# Import Libraries"
      ],
      "metadata": {
        "id": "8HZQ3oZ3eSV8"
      },
      "id": "8HZQ3oZ3eSV8"
    },
    {
      "cell_type": "code",
      "execution_count": 3,
      "id": "01e8557b",
      "metadata": {
        "id": "01e8557b"
      },
      "outputs": [],
      "source": [
        "import os\n",
        "import cv2\n",
        "import matplotlib.pyplot as plt\n",
        "import numpy as np\n",
        "from datetime import datetime\n",
        "import random\n",
        "import time\n",
        "import json\n",
        "import seaborn as sns\n",
        "\n",
        "from sklearn.model_selection import train_test_split\n",
        "from sklearn.metrics import accuracy_score, confusion_matrix, ConfusionMatrixDisplay"
      ]
    },
    {
      "cell_type": "code",
      "execution_count": 4,
      "id": "93dd1614",
      "metadata": {
        "id": "93dd1614"
      },
      "outputs": [],
      "source": [
        "import torch\n",
        "import torch.nn as nn\n",
        "from torch.utils.data import DataLoader\n",
        "from torchvision import datasets, transforms\n",
        "from torchvision.utils import make_grid\n",
        "import torch.nn.functional as F\n",
        "from torch.utils.data import Subset, Dataset\n",
        "import torch.optim.lr_scheduler as lr_scheduler\n",
        "from torchsummary import summary"
      ]
    },
    {
      "cell_type": "markdown",
      "source": [
        "# Global Variables"
      ],
      "metadata": {
        "id": "OEWkVya2e567"
      },
      "id": "OEWkVya2e567"
    },
    {
      "cell_type": "code",
      "execution_count": 5,
      "id": "49845800",
      "metadata": {
        "id": "49845800"
      },
      "outputs": [],
      "source": [
        "SEED = 42\n",
        "\n",
        "np.random.seed(SEED)\n",
        "random.seed(SEED)\n",
        "\n",
        "BATCH_SIZE=64\n",
        "\n",
        "LEARNING_RATE=0.0001\n",
        "WEIGHT_DECAY=0.8\n",
        "# SGD\n",
        "MOMENTUM=0.9\n",
        "\n",
        "IMAGE_HEIGHT , IMAGE_WIDTH = 64, 64\n",
        "\n",
        "FRAMES_PER_VIDEO = 30\n",
        "\n",
        "ROOT_DIR=os.path.join('drive', 'MyDrive', 'Custom-Dataset')\n",
        "DEVICE = torch.device(\"cuda:0\" if torch.cuda.is_available() else \"cpu\")\n",
        "# DEVICE = \"cpu\"\n"
      ]
    },
    {
      "cell_type": "markdown",
      "source": [
        "# Dataset"
      ],
      "metadata": {
        "id": "VLM_2AmLe86A"
      },
      "id": "VLM_2AmLe86A"
    },
    {
      "cell_type": "code",
      "source": [
        "from google.colab import drive\n",
        "drive.mount('/content/drive')"
      ],
      "metadata": {
        "id": "Jv01hu0umZIe",
        "colab": {
          "base_uri": "https://localhost:8080/"
        },
        "outputId": "a4c88f45-e485-4f08-e24d-fb52136ac6a5"
      },
      "id": "Jv01hu0umZIe",
      "execution_count": 6,
      "outputs": [
        {
          "output_type": "stream",
          "name": "stdout",
          "text": [
            "Drive already mounted at /content/drive; to attempt to forcibly remount, call drive.mount(\"/content/drive\", force_remount=True).\n"
          ]
        }
      ]
    },
    {
      "cell_type": "code",
      "source": [
        "X_train_frames = np.load(os.path.join(ROOT_DIR, \"train\", \"X_train_frames.npy\"))\n",
        "X_train_keypoints = np.load(os.path.join(ROOT_DIR, \"train\", \"X_train_keypoints.npy\"))\n",
        "y_train = np.load(os.path.join(ROOT_DIR, \"train\", \"y_train.npy\"))\n",
        "\n",
        "X_test_frames = np.load(os.path.join(ROOT_DIR, \"test\", \"X_test_frames.npy\"))\n",
        "X_test_keypoints = np.load(os.path.join(ROOT_DIR, \"test\", \"X_test_keypoints.npy\"))\n",
        "y_test = np.load(os.path.join(ROOT_DIR, \"test\", \"y_test.npy\"))\n",
        "\n",
        "X_val_frames = np.load(os.path.join(ROOT_DIR, \"val\", \"X_val_frames.npy\"))\n",
        "X_val_keypoints = np.load(os.path.join(ROOT_DIR, \"val\", \"X_val_keypoints.npy\"))\n",
        "y_val = np.load(os.path.join(ROOT_DIR, \"val\", \"y_val.npy\"))"
      ],
      "metadata": {
        "id": "jKwDBXRAC5Dn"
      },
      "id": "jKwDBXRAC5Dn",
      "execution_count": 7,
      "outputs": []
    },
    {
      "cell_type": "code",
      "source": [
        "with open(os.path.join(ROOT_DIR, \"label_encoder.json\")) as f:\n",
        "\tdata = json.load(f)\n",
        "CLASSES = list(data.keys())"
      ],
      "metadata": {
        "id": "-X4Sw5f-EGwC"
      },
      "id": "-X4Sw5f-EGwC",
      "execution_count": 8,
      "outputs": []
    },
    {
      "cell_type": "code",
      "source": [
        "class UCFCustom(Dataset):\n",
        "    def __init__(self, frames, keypoints, labels, transform=None):\n",
        "        self.frames = frames\n",
        "        self.labels = labels\n",
        "        self.keypoints = keypoints\n",
        "        self.transform = transform\n",
        "    \n",
        "    def __len__(self):\n",
        "        return len(self.labels)\n",
        "    \n",
        "    def __getitem__(self, index):\n",
        "        X_frames = np.moveaxis(self.frames[index], 3, 0)\n",
        "        X_frames = torch.from_numpy(X_frames)\n",
        "        X_keypoints = torch.from_numpy(self.keypoints[index])\n",
        "        y = torch.from_numpy(np.array(self.labels[index])).type(torch.LongTensor)\n",
        "        \n",
        "        X_frames = X_frames.float()\n",
        "        X_keypoints = X_keypoints.float()\n",
        "        # y = y.float()\n",
        "        \n",
        "        \n",
        "        if self.transform:\n",
        "            X_frames = self.transform(X_frames)\n",
        "            X_keypoints = self.transform(X_keypoints)\n",
        "        \n",
        "        return X_frames, X_keypoints, y"
      ],
      "metadata": {
        "id": "pC_i0EQrC-2t"
      },
      "id": "pC_i0EQrC-2t",
      "execution_count": 9,
      "outputs": []
    },
    {
      "cell_type": "code",
      "source": [
        "test_dataset = UCFCustom(X_test_frames, X_test_keypoints, y_test, transform=None)\n",
        "val_dataset = UCFCustom(X_val_frames, X_val_keypoints, y_val, transform=None)\n",
        "train_dataset = UCFCustom(X_train_frames, X_train_keypoints, y_train, transform=None)"
      ],
      "metadata": {
        "id": "B7BoRm1bDBSH"
      },
      "id": "B7BoRm1bDBSH",
      "execution_count": 10,
      "outputs": []
    },
    {
      "cell_type": "code",
      "source": [
        "test_dataloader = DataLoader(test_dataset, batch_size=BATCH_SIZE,\n",
        "                                          shuffle=True, num_workers=0)\n",
        "train_dataloader = DataLoader(train_dataset, batch_size=BATCH_SIZE,\n",
        "                                          shuffle=True, num_workers=0)\n",
        "val_dataloader = DataLoader(val_dataset, batch_size=BATCH_SIZE,\n",
        "                                          shuffle=True, num_workers=0)"
      ],
      "metadata": {
        "id": "GaOK4Ow8DChV"
      },
      "id": "GaOK4Ow8DChV",
      "execution_count": 11,
      "outputs": []
    },
    {
      "cell_type": "code",
      "source": [
        "X_frames, X_keypoints, y = next(iter(train_dataloader))"
      ],
      "metadata": {
        "id": "kkkw49fsjFVL"
      },
      "id": "kkkw49fsjFVL",
      "execution_count": 12,
      "outputs": []
    },
    {
      "cell_type": "code",
      "source": [
        "X_frames.shape"
      ],
      "metadata": {
        "colab": {
          "base_uri": "https://localhost:8080/"
        },
        "id": "zlEDW5UGFGOY",
        "outputId": "6565b447-3551-41d5-ebf0-2558a5a812d7"
      },
      "id": "zlEDW5UGFGOY",
      "execution_count": 13,
      "outputs": [
        {
          "output_type": "execute_result",
          "data": {
            "text/plain": [
              "torch.Size([64, 3, 30, 64, 64])"
            ]
          },
          "metadata": {},
          "execution_count": 13
        }
      ]
    },
    {
      "cell_type": "code",
      "source": [
        "X_keypoints.shape"
      ],
      "metadata": {
        "colab": {
          "base_uri": "https://localhost:8080/"
        },
        "id": "oVdNaYCZjkDU",
        "outputId": "f61a995f-47da-41fd-e9eb-018561e0c117"
      },
      "id": "oVdNaYCZjkDU",
      "execution_count": 14,
      "outputs": [
        {
          "output_type": "execute_result",
          "data": {
            "text/plain": [
              "torch.Size([64, 30, 1662])"
            ]
          },
          "metadata": {},
          "execution_count": 14
        }
      ]
    },
    {
      "cell_type": "code",
      "source": [
        "x_axis, y_axis = np.unique(y_train, return_counts=True)\n",
        "sns.barplot(x=CLASSES, y=y_axis)\n",
        "plt.xticks(rotation=45)\n",
        "plt.show()"
      ],
      "metadata": {
        "colab": {
          "base_uri": "https://localhost:8080/",
          "height": 0
        },
        "id": "l110weT8qiRN",
        "outputId": "23f247f6-1058-439e-a01a-dd55556e97f7"
      },
      "id": "l110weT8qiRN",
      "execution_count": 15,
      "outputs": [
        {
          "output_type": "display_data",
          "data": {
            "text/plain": [
              "<Figure size 432x288 with 1 Axes>"
            ],
            "image/png": "[encoded data removed]"
          },
          "metadata": {
            "needs_background": "light"
          }
        }
      ]
    },
    {
      "cell_type": "code",
      "source": [
        "x_axis, y_axis = np.unique(y_val, return_counts=True)\n",
        "sns.barplot(x=CLASSES, y=y_axis)\n",
        "plt.xticks(rotation=45)\n",
        "plt.show()"
      ],
      "metadata": {
        "colab": {
          "base_uri": "https://localhost:8080/",
          "height": 0
        },
        "id": "kTfFOqqRq_w0",
        "outputId": "a9419bb4-7b0c-4fdf-a4ea-ff150e08a408"
      },
      "id": "kTfFOqqRq_w0",
      "execution_count": 16,
      "outputs": [
        {
          "output_type": "display_data",
          "data": {
            "text/plain": [
              "<Figure size 432x288 with 1 Axes>"
            ],
            "image/png": "[encoded data removed]"
          },
          "metadata": {
            "needs_background": "light"
          }
        }
      ]
    },
    {
      "cell_type": "code",
      "source": [
        "x_axis, y_axis = np.unique(y_test, return_counts=True)\n",
        "sns.barplot(x=CLASSES, y=y_axis)\n",
        "plt.xticks(rotation=45)\n",
        "plt.show()"
      ],
      "metadata": {
        "colab": {
          "base_uri": "https://localhost:8080/",
          "height": 0
        },
        "id": "vnb9cmpnrAOU",
        "outputId": "918578fb-59ac-4ea0-cbbd-515fc6a83de1"
      },
      "id": "vnb9cmpnrAOU",
      "execution_count": 17,
      "outputs": [
        {
          "output_type": "display_data",
          "data": {
            "text/plain": [
              "<Figure size 432x288 with 1 Axes>"
            ],
            "image/png": "[encoded data removed]"
          },
          "metadata": {
            "needs_background": "light"
          }
        }
      ]
    },
    {
      "cell_type": "markdown",
      "source": [
        "# Model"
      ],
      "metadata": {
        "id": "9Yk36s2WiUt2"
      },
      "id": "9Yk36s2WiUt2"
    },
    {
      "cell_type": "markdown",
      "source": [
        "## Module"
      ],
      "metadata": {
        "id": "-iA_d8XNiXVn"
      },
      "id": "-iA_d8XNiXVn"
    },
    {
      "cell_type": "code",
      "execution_count": 18,
      "id": "76687f43",
      "metadata": {
        "id": "76687f43"
      },
      "outputs": [],
      "source": [
        "class Module(nn.Module):\n",
        "    def __init__(self):\n",
        "        super().__init__()\n",
        "    \n",
        "    def loss(self, y_hat, y):\n",
        "        loss = nn.CrossEntropyLoss()\n",
        "\n",
        "        # print(y_hat, y)\n",
        "\n",
        "        # print(y_hat.shape, y.shape)\n",
        "\n",
        "        return loss(y_hat, y)\n",
        "    \n",
        "    def optimizer(self, optimizer_type=\"SGD\"):\n",
        "        assert optimizer_type in (\"SGD\", \"Adam\"), f\"optimizer_type must be SGD or Adam not {optimizer_type}\"\n",
        "        assert hasattr(self, \"lr\"), \"Learning rate is not defined\"\n",
        "        assert hasattr(self, \"weight_decay\"), \"Weight Decay rate is not defined\"\n",
        "        if optimizer_type == \"SGD\":\n",
        "            assert hasattr(self, \"momentum\"), \"Momentum is not defined\"\n",
        "            optimizer = torch.optim.SGD(self.parameters(), lr=self.lr, momentum=self.momentum, weight_decay=self.weight_decay)\n",
        "        else:\n",
        "            optimizer = torch.optim.Adam(self.parameters(), lr=self.lr, weight_decay=self.weight_decay)\n",
        "          \n",
        "        scheduler = lr_scheduler.MultiStepLR(optimizer, milestones=[60, 150], gamma=0.1)\n",
        "        # scheduler=None\n",
        "\n",
        "        return optimizer, scheduler\n",
        "    \n",
        "    def step(self, X_frames, X_keypoints, y):\n",
        "        y_pred = self(X_frames, X_keypoints)\n",
        "        return self.loss(y_pred, y), y_pred"
      ]
    },
    {
      "cell_type": "markdown",
      "source": [
        "## ConvLSTM"
      ],
      "metadata": {
        "id": "-TTxgRwrinzq"
      },
      "id": "-TTxgRwrinzq"
    },
    {
      "cell_type": "code",
      "execution_count": 19,
      "id": "2a4c0a27",
      "metadata": {
        "id": "2a4c0a27"
      },
      "outputs": [],
      "source": [
        "# Original ConvLSTM cell as proposed by Shi et al.\n",
        "class ConvLSTMCell(nn.Module):\n",
        "\n",
        "    def __init__(self, in_channels, out_channels, \n",
        "    kernel_size, padding, activation, frame_size):\n",
        "\n",
        "        super(ConvLSTMCell, self).__init__()  \n",
        "\n",
        "        if activation == \"tanh\":\n",
        "            self.activation = torch.tanh \n",
        "        elif activation == \"relu\":\n",
        "            self.activation = torch.relu\n",
        "        \n",
        "        # Idea adapted from https://github.com/ndrplz/ConvLSTM_pytorch\n",
        "        self.conv = nn.Conv2d(\n",
        "            in_channels=in_channels + out_channels, \n",
        "            out_channels=4 * out_channels, \n",
        "            kernel_size=kernel_size, \n",
        "            padding=padding)\n",
        "        # print(self.conv.weight)\n",
        "        torch.nn.init.xavier_normal_(self.conv.weight)\n",
        "        self.conv.bias.data.fill_(0.01)\n",
        "\n",
        "        # Initialize weights for Hadamard Products\n",
        "        self.W_ci = nn.Parameter(torch.Tensor(out_channels, *frame_size))\n",
        "        self.W_co = nn.Parameter(torch.Tensor(out_channels, *frame_size))\n",
        "        self.W_cf = nn.Parameter(torch.Tensor(out_channels, *frame_size))\n",
        "\n",
        "    def forward(self, X, H_prev, C_prev):\n",
        "\n",
        "        # Idea adapted from https://github.com/ndrplz/ConvLSTM_pytorch\n",
        "        conv_output = self.conv(torch.cat([X, H_prev], dim=1))\n",
        "\n",
        "        # Idea adapted from https://github.com/ndrplz/ConvLSTM_pytorch\n",
        "        i_conv, f_conv, C_conv, o_conv = torch.chunk(conv_output, chunks=4, dim=1)\n",
        "\n",
        "        input_gate = torch.sigmoid(i_conv + self.W_ci * C_prev )\n",
        "        forget_gate = torch.sigmoid(f_conv + self.W_cf * C_prev )\n",
        "\n",
        "        # Current Cell output\n",
        "        C = forget_gate*C_prev + input_gate * self.activation(C_conv)\n",
        "\n",
        "        output_gate = torch.sigmoid(o_conv + self.W_co * C )\n",
        "\n",
        "        # Current Hidden State\n",
        "        H = output_gate * self.activation(C)\n",
        "\n",
        "        return H, C"
      ]
    },
    {
      "cell_type": "code",
      "execution_count": 20,
      "id": "a4d0fb7d",
      "metadata": {
        "id": "a4d0fb7d"
      },
      "outputs": [],
      "source": [
        "class ConvLSTM(nn.Module):\n",
        "\n",
        "    def __init__(self, in_channels, out_channels, \n",
        "    kernel_size, padding, activation, frame_size):\n",
        "\n",
        "        super(ConvLSTM, self).__init__()\n",
        "\n",
        "        self.out_channels = out_channels\n",
        "\n",
        "        # We will unroll this over time steps\n",
        "        self.convLSTMcell = ConvLSTMCell(in_channels, out_channels, \n",
        "        kernel_size, padding, activation, frame_size)\n",
        "\n",
        "    def forward(self, X):\n",
        "\n",
        "        # X is a frame sequence (batch_size, num_channels, seq_len, height, width)\n",
        "\n",
        "        # Get the dimensions\n",
        "        batch_size, _, seq_len, height, width = X.size()\n",
        "\n",
        "        # Initialize output\n",
        "        output = torch.zeros(batch_size, self.out_channels, seq_len, \n",
        "        height, width, device=DEVICE)\n",
        "        \n",
        "        # Initialize Hidden State\n",
        "        H = torch.zeros(batch_size, self.out_channels, \n",
        "        height, width, device=DEVICE)\n",
        "\n",
        "        # Initialize Cell Input\n",
        "        C = torch.zeros(batch_size,self.out_channels, \n",
        "        height, width, device=DEVICE)\n",
        "\n",
        "        # Unroll over time steps\n",
        "        for time_step in range(seq_len):\n",
        "\n",
        "            H, C = self.convLSTMcell(X[:,:,time_step], H, C)\n",
        "\n",
        "            output[:,:,time_step] = H\n",
        "\n",
        "        return output"
      ]
    },
    {
      "cell_type": "markdown",
      "source": [
        "## Architecture"
      ],
      "metadata": {
        "id": "mNaSKxkIi_5-"
      },
      "id": "mNaSKxkIi_5-"
    },
    {
      "cell_type": "code",
      "execution_count": 21,
      "id": "f7b6b155",
      "metadata": {
        "id": "f7b6b155"
      },
      "outputs": [],
      "source": [
        "class Seq2Seq(Module):\n",
        "\n",
        "    def __init__(self, num_channels, num_kernels, kernel_size, padding, \n",
        "    activation, frame_size, num_layers, sequence_length, keypoints_length, lr=LEARNING_RATE, momentum=MOMENTUM, weight_decay=WEIGHT_DECAY):\n",
        "\n",
        "        super(Seq2Seq, self).__init__()\n",
        "                \n",
        "        self.lr = lr\n",
        "        self.momentum = momentum\n",
        "        self.weight_decay = weight_decay\n",
        "        self.keypoints_length = keypoints_length\n",
        "        self.sequence_length = sequence_length\n",
        "\n",
        "        self.sequential = nn.Sequential()\n",
        "\n",
        "        # Add First layer (Different in_channels than the rest)\n",
        "        self.sequential.add_module(\n",
        "            \"convlstm1\", ConvLSTM(\n",
        "                in_channels=num_channels, out_channels=num_kernels,\n",
        "                kernel_size=kernel_size, padding=padding, \n",
        "                activation=activation, frame_size=frame_size)\n",
        "        )\n",
        "\n",
        "        # self.sequential.add_module(\n",
        "        #     \"dropout1\", nn.Dropout3d(p=0.5)\n",
        "        # )\n",
        "\n",
        "        self.sequential.add_module(\n",
        "            \"batchnorm1\", nn.BatchNorm3d(num_features=num_kernels)\n",
        "        ) \n",
        "\n",
        "        # Add rest of the layers\n",
        "        for l in range(2, num_layers+1):\n",
        "\n",
        "            self.sequential.add_module(\n",
        "                f\"convlstm{l}\", ConvLSTM(\n",
        "                    in_channels=num_kernels, out_channels=num_kernels,\n",
        "                    kernel_size=kernel_size, padding=padding, \n",
        "                    activation=activation, frame_size=frame_size)\n",
        "                )\n",
        "            \n",
        "            # self.sequential.add_module(\n",
        "            #     f\"dropout{l}\", nn.Dropout3d(p=0.5)\n",
        "            #     )\n",
        "                \n",
        "            self.sequential.add_module(\n",
        "                f\"batchnorm{l}\", nn.BatchNorm3d(num_features=num_kernels)\n",
        "                ) \n",
        "\n",
        "        self.conv = nn.Conv2d(\n",
        "            in_channels=num_kernels, out_channels=num_channels,\n",
        "            kernel_size=kernel_size, padding=padding)\n",
        "        # print(self.conv.weight)\n",
        "        torch.nn.init.xavier_normal_(self.conv.weight)\n",
        "        self.conv.bias.data.fill_(0.01)\n",
        "          \n",
        "        self.lstm_cell_layer_1 = nn.LSTMCell(self.keypoints_length, 512)\n",
        "\n",
        "        self.lstm_cell_layer_2 = nn.LSTMCell(512, 512)\n",
        "        \n",
        "        self.fc = nn.Linear( (3 * 64 * 64) + 512, 11)\n",
        "\n",
        "        torch.nn.init.xavier_normal_(self.fc.weight)\n",
        "        self.fc.bias.data.fill_(0.01)\n",
        "\n",
        "        self.device = torch.device(\"cuda:0\" if torch.cuda.is_available() else \"cpu\")\n",
        "\n",
        "    def forward(self, X_frames, X_keypoints):\n",
        "\n",
        "        output = self.sequential(X_frames)\n",
        "\n",
        "        output = self.conv(output[:,:,-1])\n",
        "        \n",
        "        output = output.view(output.size(0), -1)\n",
        "\n",
        "        hidden_state = torch.zeros(X_keypoints.size(0), 512).to(self.device)\n",
        "        cell_state = torch.zeros(X_keypoints.size(0), 512).to(self.device)\n",
        "        hidden_state_2 = torch.zeros(X_keypoints.size(0), 512).to(self.device)\n",
        "        cell_state_2 = torch.zeros(X_keypoints.size(0), 512).to(self.device)\n",
        "\n",
        "        torch.nn.init.xavier_normal_(hidden_state)\n",
        "        torch.nn.init.xavier_normal_(cell_state)\n",
        "        torch.nn.init.xavier_normal_(hidden_state_2)\n",
        "        torch.nn.init.xavier_normal_(cell_state_2)\n",
        "\n",
        "        out = X_keypoints.view(self.sequence_length, X_keypoints.size(0), -1)\n",
        "\n",
        "        for i in range(self.sequence_length):\n",
        "          hidden_state, cell_state = self.lstm_cell_layer_1(out[i], (hidden_state, cell_state))\n",
        "          hidden_state_2, cell_state_2 = self.lstm_cell_layer_2(hidden_state, (hidden_state_2, cell_state_2))\n",
        "\n",
        "        # print(output.shape, hidden_state_2.shape)\n",
        "        # print(torch.cat((output, hidden_state_2), 1))\n",
        "        # print((3 * 64 * 64) + 512)\n",
        "        final_output = torch.cat((output, hidden_state_2), 1)\n",
        "        \n",
        "        final_output = self.fc(final_output)\n",
        "        \n",
        "        return final_output"
      ]
    },
    {
      "cell_type": "markdown",
      "source": [
        "## TRAINER"
      ],
      "metadata": {
        "id": "4MRqkZZljCVj"
      },
      "id": "4MRqkZZljCVj"
    },
    {
      "cell_type": "code",
      "execution_count": 22,
      "id": "62cbce4a",
      "metadata": {
        "id": "62cbce4a"
      },
      "outputs": [],
      "source": [
        "class Trainer():\n",
        "    def __init__(self, epochs=10):\n",
        "        self.epochs = epochs\n",
        "        \n",
        "    def prepare_model(self, model):\n",
        "        model.trainer = self\n",
        "        self.model = model\n",
        "    def save_checkpoint(self, epoch):\n",
        "        torch.save(self.model, os.path.join(\"drive/MyDrive/checkpoint\", f\"model_{epoch + 1}.pt\"))\n",
        "        with open(os.path.join(\"drive/MyDrive/checkpoint\", f\"history_{epoch + 1}.json\"), 'w') as fp:\n",
        "            json.dump(self.history, fp)\n",
        "    \n",
        "    def load_checkpoint(self, epoch):\n",
        "        self.model = torch.load(os.path.join(\"drive/MyDrive/checkpoint\", f\"model_{epoch + 1}.pt\"))\n",
        "        with open(os.path.join(\"drive/MyDrive/checkpoint\", f\"history_{epoch + 1}.json\"), \"r\") as json_file:\n",
        "            self.history = json.load(json_file)\n",
        "      \n",
        "    def epoch_time(self, start_time, end_time):\n",
        "        elapsed_time = start_time - end_time\n",
        "        elapsed_mins = int(elapsed_time/60)\n",
        "        elapsed_secs = int(elapsed_time - (elapsed_mins * 60))\n",
        "        return elapsed_mins, elapsed_secs\n",
        "    def fit(self, train_dataloader, val_dataloader, model):\n",
        "        \n",
        "        self.device = torch.device(\"cuda:0\" if torch.cuda.is_available() else \"cpu\")\n",
        "        # self.device = 'cpu'\n",
        "        highest_val = 0\n",
        "        val_threshold = 0.81\n",
        "        self.prepare_model(model)\n",
        "        self.model.to(self.device)\n",
        "        \n",
        "        self.optimizer, self.scheduler = self.model.optimizer(\"Adam\")\n",
        "        \n",
        "        self.history = {\"train\": {\"loss\": [], \"accuracy\": []}, \"val\": {\"loss\": [], \"accuracy\": []}}\n",
        "        for epoch in range(0, self.epochs):\n",
        "            \n",
        "            start_time = time.time()\n",
        "            train_loss, train_acc = self.fit_train(train_dataloader)\n",
        "            val_loss, val_acc = self.fit_val(val_dataloader)\n",
        "            end_time = time.time()\n",
        "\n",
        "            self.scheduler.step()\n",
        "            \n",
        "            elapsed_mins, elapsed_secs = self.epoch_time( start_time, end_time)\n",
        "            \n",
        "            print(f\"<---- Epoch {epoch + 1}: {elapsed_mins}m {elapsed_secs}s ---->\")\n",
        "            print(f\"Train Loss: {train_loss}, Train Accuracy: {train_acc}\")\n",
        "            print(f\"Val Loss: {val_loss}, Val Accuracy: {val_acc}\")\n",
        "            \n",
        "            self.history[\"train\"][\"loss\"].append(train_loss)\n",
        "            self.history[\"train\"][\"accuracy\"].append(train_acc)\n",
        "            self.history[\"val\"][\"loss\"].append(val_loss)\n",
        "            self.history[\"val\"][\"accuracy\"].append(val_acc)\n",
        "\n",
        "            if val_acc > val_threshold:\n",
        "              if val_acc > highest_val:\n",
        "                highest_val = val_acc\n",
        "                self.save_checkpoint(epoch + 1)\n",
        "        \n",
        "        self.model.to(\"cpu\")\n",
        "        \n",
        "        return self.history\n",
        "    def fit_train(self, train_dataloader):\n",
        "        self.model.train()\n",
        "        \n",
        "        total_loss = 0\n",
        "        accuracy = 0\n",
        "        \n",
        "        batchs = 0\n",
        "        \n",
        "        for X_frames, X_keypoints, y in train_dataloader:\n",
        "            batchs += 1\n",
        "            X_frames, X_keypoints, y = X_frames.to(self.device), X_keypoints.to(self.device), y.to(self.device)\n",
        "            \n",
        "            loss, y_pred = self.model.step(X_frames, X_keypoints, y)\n",
        "            \n",
        "            self.optimizer.zero_grad()\n",
        "            loss.backward()\n",
        "            self.optimizer.step()\n",
        "            \n",
        "            total_loss += loss.item()\n",
        "            accuracy += accuracy_score(np.argmax(y_pred.to(\"cpu\").detach().numpy(), axis=1).reshape(-1,1), y.to(\"cpu\").detach().numpy().reshape(-1,1))\n",
        "            \n",
        "            del X_frames, X_keypoints, y, loss\n",
        "                \n",
        "        return total_loss / batchs, accuracy / batchs\n",
        "    def fit_val(self, val_dataloader):\n",
        "        assert hasattr(self, \"model\"), \"Model is not yet defined\"\n",
        "\n",
        "        self.model.eval()\n",
        "        total_loss = 0\n",
        "        accuracy = 0\n",
        "\n",
        "        batchs = 0\n",
        "\n",
        "        for X_frames, X_keypoints, y in val_dataloader:\n",
        "            batchs += 1\n",
        "            X_frames, X_keypoints, y = X_frames.to(self.device), X_keypoints.to(self.device), y.to(self.device)\n",
        "\n",
        "            with torch.no_grad():\n",
        "                loss, y_pred = self.model.step(X_frames, X_keypoints, y)\n",
        "                total_loss += loss.item()\n",
        "                accuracy += accuracy_score(np.argmax(y_pred.to(\"cpu\").detach().numpy(), axis=1).reshape(-1,1), y.to(\"cpu\").detach().numpy().reshape(-1,1))\n",
        "                del X_frames, X_keypoints, y, loss\n",
        "\n",
        "        return total_loss / batchs, accuracy / batchs\n",
        "\n",
        "    def evaluate(self, test_dataloader):\n",
        "        \n",
        "        assert hasattr(self, \"model\"), \"Model is not yet defined\"\n",
        "        if not hasattr(self, \"device\"):\n",
        "            self.device = torch.device(\"cuda:0\" if torch.cuda.is_available() else \"cpu\")\n",
        "        self.model.to(self.device)\n",
        "        self.model.eval()\n",
        "        correct = 0\n",
        "        batchs = 0\n",
        "        predictions = list()\n",
        "        labels = list()\n",
        "        for X_frames, X_keypoints, y in test_dataloader:\n",
        "            batchs += 1\n",
        "            X_frames, X_keypoints, y = X_frames.to(self.device), X_keypoints.to(self.device), y.to(self.device)\n",
        "\n",
        "            with torch.no_grad():\n",
        "                _, y_pred = self.model.step(X_frames, X_keypoints, y)\n",
        "                y_pred = np.argmax(y_pred.to(\"cpu\").detach().numpy(), axis=1).reshape(-1,1)\n",
        "                y = y.to(\"cpu\").detach().numpy().reshape(-1,1)\n",
        "                predictions.extend(y_pred)\n",
        "                labels.extend(y)\n",
        "                accuracy = accuracy_score(y_pred, y)\n",
        "\n",
        "                correct += accuracy\n",
        "\n",
        "                del X_frames, X_keypoints, y\n",
        "\n",
        "\n",
        "        return correct / batchs, np.array(predictions, dtype=object), np.array(labels, dtype=object)"
      ]
    },
    {
      "cell_type": "markdown",
      "source": [
        "## TRAINING"
      ],
      "metadata": {
        "id": "JeTx8xmpjqjC"
      },
      "id": "JeTx8xmpjqjC"
    },
    {
      "cell_type": "code",
      "execution_count": 23,
      "id": "2a4cfffc",
      "metadata": {
        "colab": {
          "base_uri": "https://localhost:8080/"
        },
        "id": "2a4cfffc",
        "outputId": "42579bfe-6046-43b0-d62f-f2d1cc1ac5c2"
      },
      "outputs": [
        {
          "output_type": "execute_result",
          "data": {
            "text/plain": [
              "7174718"
            ]
          },
          "metadata": {},
          "execution_count": 23
        }
      ],
      "source": [
        "# The input video frames are grayscale, thus single channel\n",
        "model = Seq2Seq(num_channels=3, num_kernels=16, \n",
        "kernel_size=(5, 5), padding=(2, 2), activation=\"relu\", \n",
        "frame_size=(64, 64), num_layers=2, sequence_length=30, keypoints_length=1662).to(DEVICE)\n",
        "\n",
        "def count_parameters(model):\n",
        "    return sum(p.numel() for p in model.parameters() if p.requires_grad)\n",
        "\n",
        "count_parameters(model)"
      ]
    },
    {
      "cell_type": "code",
      "execution_count": 24,
      "id": "e850f5c2",
      "metadata": {
        "id": "e850f5c2",
        "colab": {
          "base_uri": "https://localhost:8080/"
        },
        "outputId": "9d22b156-e037-42d4-bcb9-de5782f141bd"
      },
      "outputs": [
        {
          "output_type": "stream",
          "name": "stdout",
          "text": [
            "Seq2Seq(\n",
            "  (sequential): Sequential(\n",
            "    (convlstm1): ConvLSTM(\n",
            "      (convLSTMcell): ConvLSTMCell(\n",
            "        (conv): Conv2d(19, 64, kernel_size=(5, 5), stride=(1, 1), padding=(2, 2))\n",
            "      )\n",
            "    )\n",
            "    (batchnorm1): BatchNorm3d(16, eps=1e-05, momentum=0.1, affine=True, track_running_stats=True)\n",
            "    (convlstm2): ConvLSTM(\n",
            "      (convLSTMcell): ConvLSTMCell(\n",
            "        (conv): Conv2d(32, 64, kernel_size=(5, 5), stride=(1, 1), padding=(2, 2))\n",
            "      )\n",
            "    )\n",
            "    (batchnorm2): BatchNorm3d(16, eps=1e-05, momentum=0.1, affine=True, track_running_stats=True)\n",
            "  )\n",
            "  (conv): Conv2d(16, 3, kernel_size=(5, 5), stride=(1, 1), padding=(2, 2))\n",
            "  (lstm_cell_layer_1): LSTMCell(1662, 512)\n",
            "  (lstm_cell_layer_2): LSTMCell(512, 512)\n",
            "  (fc): Linear(in_features=12800, out_features=11, bias=True)\n",
            ")\n"
          ]
        }
      ],
      "source": [
        "print(model)"
      ]
    },
    {
      "cell_type": "code",
      "execution_count": 25,
      "id": "afb12d17",
      "metadata": {
        "colab": {
          "base_uri": "https://localhost:8080/"
        },
        "id": "afb12d17",
        "outputId": "051198f9-4153-433e-8d31-c6b59623641c"
      },
      "outputs": [
        {
          "output_type": "stream",
          "name": "stdout",
          "text": [
            "<---- Epoch 1: 0m -27s ---->\n",
            "Train Loss: 8.746479776170519, Train Accuracy: 0.11805555555555555\n",
            "Val Loss: 2.4667880535125732, Val Accuracy: 0.0\n",
            "<---- Epoch 2: 0m -25s ---->\n",
            "Train Loss: 6.584973547193739, Train Accuracy: 0.1579861111111111\n",
            "Val Loss: 2.517930269241333, Val Accuracy: 0.06770833333333333\n",
            "<---- Epoch 3: 0m -25s ---->\n",
            "Train Loss: 5.780594613817003, Train Accuracy: 0.14930555555555555\n",
            "Val Loss: 2.556313673655192, Val Accuracy: 0.078125\n",
            "<---- Epoch 4: 0m -25s ---->\n",
            "Train Loss: 4.137155479855007, Train Accuracy: 0.2586805555555556\n",
            "Val Loss: 2.5263237953186035, Val Accuracy: 0.08333333333333333\n",
            "<---- Epoch 5: 0m -25s ---->\n",
            "Train Loss: 3.1525993082258434, Train Accuracy: 0.3194444444444444\n",
            "Val Loss: 2.482621351877848, Val Accuracy: 0.09895833333333333\n",
            "<---- Epoch 6: 0m -25s ---->\n",
            "Train Loss: 2.3362210194269815, Train Accuracy: 0.4045138888888889\n",
            "Val Loss: 2.383608102798462, Val Accuracy: 0.11979166666666667\n",
            "<---- Epoch 7: 0m -25s ---->\n",
            "Train Loss: 1.9143384959962633, Train Accuracy: 0.4878472222222222\n",
            "Val Loss: 1.9587808847427368, Val Accuracy: 0.2708333333333333\n",
            "<---- Epoch 8: 0m -25s ---->\n",
            "Train Loss: 1.4917008876800537, Train Accuracy: 0.5659722222222222\n",
            "Val Loss: 1.621314565340678, Val Accuracy: 0.4583333333333333\n",
            "<---- Epoch 9: 0m -25s ---->\n",
            "Train Loss: 1.3395700057347615, Train Accuracy: 0.5729166666666666\n",
            "Val Loss: 1.4103127320607503, Val Accuracy: 0.46875\n",
            "<---- Epoch 10: 0m -25s ---->\n",
            "Train Loss: 1.1406449675559998, Train Accuracy: 0.6597222222222222\n",
            "Val Loss: 1.1817770600318909, Val Accuracy: 0.6354166666666666\n",
            "<---- Epoch 11: 0m -25s ---->\n",
            "Train Loss: 1.0344972809155781, Train Accuracy: 0.6614583333333334\n",
            "Val Loss: 1.1598804791768391, Val Accuracy: 0.6458333333333334\n",
            "<---- Epoch 12: 0m -25s ---->\n",
            "Train Loss: 0.919463402695126, Train Accuracy: 0.7083333333333334\n",
            "Val Loss: 1.1914299726486206, Val Accuracy: 0.609375\n",
            "<---- Epoch 13: 0m -25s ---->\n",
            "Train Loss: 0.847939689954122, Train Accuracy: 0.7274305555555556\n",
            "Val Loss: 1.0189509391784668, Val Accuracy: 0.6875\n",
            "<---- Epoch 14: 0m -25s ---->\n",
            "Train Loss: 0.7595741285218133, Train Accuracy: 0.7517361111111112\n",
            "Val Loss: 1.0703515807787578, Val Accuracy: 0.6666666666666666\n",
            "<---- Epoch 15: 0m -25s ---->\n",
            "Train Loss: 0.6890788806809319, Train Accuracy: 0.7743055555555556\n",
            "Val Loss: 1.0902127226193745, Val Accuracy: 0.6822916666666666\n",
            "<---- Epoch 16: 0m -25s ---->\n",
            "Train Loss: 0.703280485338635, Train Accuracy: 0.7864583333333334\n",
            "Val Loss: 0.9523678024609884, Val Accuracy: 0.6614583333333334\n",
            "<---- Epoch 17: 0m -25s ---->\n",
            "Train Loss: 0.6142426696088579, Train Accuracy: 0.78125\n",
            "Val Loss: 0.9994736313819885, Val Accuracy: 0.6354166666666666\n",
            "<---- Epoch 18: 0m -25s ---->\n",
            "Train Loss: 0.5637573997179667, Train Accuracy: 0.8090277777777778\n",
            "Val Loss: 0.9186229308446249, Val Accuracy: 0.6666666666666666\n",
            "<---- Epoch 19: 0m -25s ---->\n",
            "Train Loss: 0.49826212061776054, Train Accuracy: 0.8402777777777778\n",
            "Val Loss: 0.8775711258252462, Val Accuracy: 0.7135416666666666\n",
            "<---- Epoch 20: 0m -25s ---->\n",
            "Train Loss: 0.4924633238050673, Train Accuracy: 0.84375\n",
            "Val Loss: 0.8576050996780396, Val Accuracy: 0.734375\n",
            "<---- Epoch 21: 0m -25s ---->\n",
            "Train Loss: 0.44637448920143974, Train Accuracy: 0.8506944444444444\n",
            "Val Loss: 0.7366394797960917, Val Accuracy: 0.7291666666666666\n",
            "<---- Epoch 22: 0m -25s ---->\n",
            "Train Loss: 0.5134892529911466, Train Accuracy: 0.8402777777777778\n",
            "Val Loss: 0.7396026651064554, Val Accuracy: 0.765625\n",
            "<---- Epoch 23: 0m -25s ---->\n",
            "Train Loss: 0.4638516671127743, Train Accuracy: 0.8420138888888888\n",
            "Val Loss: 0.8718928098678589, Val Accuracy: 0.7239583333333334\n",
            "<---- Epoch 24: 0m -25s ---->\n",
            "Train Loss: 0.43431977762116325, Train Accuracy: 0.8506944444444444\n",
            "Val Loss: 0.6935987075169882, Val Accuracy: 0.796875\n",
            "<---- Epoch 25: 0m -25s ---->\n",
            "Train Loss: 0.4172830681006114, Train Accuracy: 0.8680555555555556\n",
            "Val Loss: 0.730847179889679, Val Accuracy: 0.7864583333333334\n",
            "<---- Epoch 26: 0m -25s ---->\n",
            "Train Loss: 0.37530822224087185, Train Accuracy: 0.8802083333333334\n",
            "Val Loss: 0.7049136459827423, Val Accuracy: 0.8020833333333334\n",
            "<---- Epoch 27: 0m -25s ---->\n",
            "Train Loss: 0.36952586306465995, Train Accuracy: 0.890625\n",
            "Val Loss: 0.6491154233614603, Val Accuracy: 0.8229166666666666\n",
            "<---- Epoch 28: 0m -25s ---->\n",
            "Train Loss: 0.40683575802379185, Train Accuracy: 0.875\n",
            "Val Loss: 0.8230642477671305, Val Accuracy: 0.7447916666666666\n",
            "<---- Epoch 29: 0m -25s ---->\n",
            "Train Loss: 0.4072616729471419, Train Accuracy: 0.8645833333333334\n",
            "Val Loss: 0.6174861689408621, Val Accuracy: 0.8020833333333334\n",
            "<---- Epoch 30: 0m -25s ---->\n",
            "Train Loss: 0.3550996747281816, Train Accuracy: 0.8975694444444444\n",
            "Val Loss: 0.7644029458363851, Val Accuracy: 0.7708333333333334\n",
            "<---- Epoch 31: 0m -25s ---->\n",
            "Train Loss: 0.36055206259091693, Train Accuracy: 0.8923611111111112\n",
            "Val Loss: 0.7626179854075114, Val Accuracy: 0.75\n",
            "<---- Epoch 32: 0m -25s ---->\n",
            "Train Loss: 0.32465484407212997, Train Accuracy: 0.90625\n",
            "Val Loss: 0.6265367468198141, Val Accuracy: 0.8385416666666666\n",
            "<---- Epoch 33: 0m -25s ---->\n",
            "Train Loss: 0.3131258653269874, Train Accuracy: 0.9097222222222222\n",
            "Val Loss: 0.7025139927864075, Val Accuracy: 0.7604166666666666\n",
            "<---- Epoch 34: 0m -25s ---->\n",
            "Train Loss: 0.2629792458481259, Train Accuracy: 0.9461805555555556\n",
            "Val Loss: 0.5985884666442871, Val Accuracy: 0.796875\n",
            "<---- Epoch 35: 0m -25s ---->\n",
            "Train Loss: 0.26911525345510906, Train Accuracy: 0.9253472222222222\n",
            "Val Loss: 0.6422906915346781, Val Accuracy: 0.8229166666666666\n",
            "<---- Epoch 36: 0m -25s ---->\n",
            "Train Loss: 0.2672393239206738, Train Accuracy: 0.9375\n",
            "Val Loss: 0.5771873792012533, Val Accuracy: 0.8125\n",
            "<---- Epoch 37: 0m -25s ---->\n",
            "Train Loss: 0.2724863357014126, Train Accuracy: 0.9375\n",
            "Val Loss: 0.6592600146929423, Val Accuracy: 0.8385416666666666\n",
            "<---- Epoch 38: 0m -25s ---->\n",
            "Train Loss: 0.24135077579153907, Train Accuracy: 0.9444444444444444\n",
            "Val Loss: 0.5323007702827454, Val Accuracy: 0.8697916666666666\n",
            "<---- Epoch 39: 0m -25s ---->\n",
            "Train Loss: 0.2420095122522778, Train Accuracy: 0.9340277777777778\n",
            "Val Loss: 0.4909857362508774, Val Accuracy: 0.8697916666666666\n",
            "<---- Epoch 40: 0m -25s ---->\n",
            "Train Loss: 0.22330772711171043, Train Accuracy: 0.9479166666666666\n",
            "Val Loss: 0.5339175860087076, Val Accuracy: 0.8385416666666666\n",
            "<---- Epoch 41: 0m -25s ---->\n",
            "Train Loss: 0.2292571249935362, Train Accuracy: 0.9461805555555556\n",
            "Val Loss: 0.604240357875824, Val Accuracy: 0.8125\n",
            "<---- Epoch 42: 0m -25s ---->\n",
            "Train Loss: 0.21110215286413828, Train Accuracy: 0.9496527777777778\n",
            "Val Loss: 0.6600123445192972, Val Accuracy: 0.7916666666666666\n",
            "<---- Epoch 43: 0m -25s ---->\n",
            "Train Loss: 0.20914581418037415, Train Accuracy: 0.9583333333333334\n",
            "Val Loss: 0.5537600020567576, Val Accuracy: 0.8541666666666666\n",
            "<---- Epoch 44: 0m -25s ---->\n",
            "Train Loss: 0.21026091112030876, Train Accuracy: 0.9461805555555556\n",
            "Val Loss: 0.552544375260671, Val Accuracy: 0.8541666666666666\n",
            "<---- Epoch 45: 0m -25s ---->\n",
            "Train Loss: 0.20729236635896894, Train Accuracy: 0.9600694444444444\n",
            "Val Loss: 0.5785063207149506, Val Accuracy: 0.8333333333333334\n",
            "<---- Epoch 46: 0m -25s ---->\n",
            "Train Loss: 0.19299674779176712, Train Accuracy: 0.9635416666666666\n",
            "Val Loss: 0.4754919211069743, Val Accuracy: 0.8854166666666666\n",
            "<---- Epoch 47: 0m -25s ---->\n",
            "Train Loss: 0.18422715697023603, Train Accuracy: 0.96875\n",
            "Val Loss: 0.44712236026922864, Val Accuracy: 0.90625\n",
            "<---- Epoch 48: 0m -25s ---->\n",
            "Train Loss: 0.1970680066280895, Train Accuracy: 0.9548611111111112\n",
            "Val Loss: 0.4432792166868846, Val Accuracy: 0.8802083333333334\n",
            "<---- Epoch 49: 0m -25s ---->\n",
            "Train Loss: 0.17646105587482452, Train Accuracy: 0.9635416666666666\n",
            "Val Loss: 0.45633195837338764, Val Accuracy: 0.8802083333333334\n",
            "<---- Epoch 50: 0m -25s ---->\n",
            "Train Loss: 0.1653701605068313, Train Accuracy: 0.9722222222222222\n",
            "Val Loss: 0.4336735208829244, Val Accuracy: 0.890625\n",
            "<---- Epoch 51: 0m -25s ---->\n",
            "Train Loss: 0.16988790531953177, Train Accuracy: 0.9618055555555556\n",
            "Val Loss: 0.4969777464866638, Val Accuracy: 0.8697916666666666\n",
            "<---- Epoch 52: 0m -25s ---->\n",
            "Train Loss: 0.1543909211953481, Train Accuracy: 0.9774305555555556\n",
            "Val Loss: 0.45930639902750653, Val Accuracy: 0.8854166666666666\n",
            "<---- Epoch 53: 0m -25s ---->\n",
            "Train Loss: 0.1476305193371243, Train Accuracy: 0.9756944444444444\n",
            "Val Loss: 0.46986352403958637, Val Accuracy: 0.8802083333333334\n",
            "<---- Epoch 54: 0m -25s ---->\n",
            "Train Loss: 0.14453048921293682, Train Accuracy: 0.9756944444444444\n",
            "Val Loss: 0.41851215561230976, Val Accuracy: 0.9010416666666666\n",
            "<---- Epoch 55: 0m -25s ---->\n",
            "Train Loss: 0.1894198093149397, Train Accuracy: 0.9635416666666666\n",
            "Val Loss: 0.46388645966847736, Val Accuracy: 0.859375\n",
            "<---- Epoch 56: 0m -25s ---->\n",
            "Train Loss: 0.14704471743769115, Train Accuracy: 0.9826388888888888\n",
            "Val Loss: 0.5032634437084198, Val Accuracy: 0.8697916666666666\n",
            "<---- Epoch 57: 0m -25s ---->\n",
            "Train Loss: 0.1433617745836576, Train Accuracy: 0.9809027777777778\n",
            "Val Loss: 0.5211517214775085, Val Accuracy: 0.8645833333333334\n",
            "<---- Epoch 58: 0m -25s ---->\n",
            "Train Loss: 0.13497821241617203, Train Accuracy: 0.9809027777777778\n",
            "Val Loss: 0.3504581078886986, Val Accuracy: 0.9270833333333334\n",
            "<---- Epoch 59: 0m -25s ---->\n",
            "Train Loss: 0.14682710336314309, Train Accuracy: 0.96875\n",
            "Val Loss: 0.40967409312725067, Val Accuracy: 0.8958333333333334\n",
            "<---- Epoch 60: 0m -25s ---->\n",
            "Train Loss: 0.13881085647477043, Train Accuracy: 0.9722222222222222\n",
            "Val Loss: 0.4138474961121877, Val Accuracy: 0.9010416666666666\n",
            "<---- Epoch 61: 0m -25s ---->\n",
            "Train Loss: 0.11785861601432164, Train Accuracy: 0.9878472222222222\n",
            "Val Loss: 0.3923291265964508, Val Accuracy: 0.9010416666666666\n",
            "<---- Epoch 62: 0m -25s ---->\n",
            "Train Loss: 0.12890050146314833, Train Accuracy: 0.9826388888888888\n",
            "Val Loss: 0.4085571567217509, Val Accuracy: 0.90625\n",
            "<---- Epoch 63: 0m -25s ---->\n",
            "Train Loss: 0.12279365294509464, Train Accuracy: 0.9913194444444444\n",
            "Val Loss: 0.5581731597582499, Val Accuracy: 0.8541666666666666\n",
            "<---- Epoch 64: 0m -25s ---->\n",
            "Train Loss: 0.11710089776251051, Train Accuracy: 0.9861111111111112\n",
            "Val Loss: 0.3832174638907115, Val Accuracy: 0.9010416666666666\n",
            "<---- Epoch 65: 0m -25s ---->\n",
            "Train Loss: 0.12817370891571045, Train Accuracy: 0.9809027777777778\n",
            "Val Loss: 0.40407780806223553, Val Accuracy: 0.8697916666666666\n",
            "<---- Epoch 66: 0m -25s ---->\n",
            "Train Loss: 0.1184970811009407, Train Accuracy: 0.9826388888888888\n",
            "Val Loss: 0.417955348889033, Val Accuracy: 0.9010416666666666\n",
            "<---- Epoch 67: 0m -25s ---->\n",
            "Train Loss: 0.11828219642241795, Train Accuracy: 0.984375\n",
            "Val Loss: 0.3954142729441325, Val Accuracy: 0.890625\n",
            "<---- Epoch 68: 0m -25s ---->\n",
            "Train Loss: 0.12239082199003962, Train Accuracy: 0.984375\n",
            "Val Loss: 0.33351098994414013, Val Accuracy: 0.9166666666666666\n",
            "<---- Epoch 69: 0m -25s ---->\n",
            "Train Loss: 0.11609183707171017, Train Accuracy: 0.9913194444444444\n",
            "Val Loss: 0.40422972043355304, Val Accuracy: 0.90625\n",
            "<---- Epoch 70: 0m -25s ---->\n",
            "Train Loss: 0.11450257317887412, Train Accuracy: 0.9930555555555556\n",
            "Val Loss: 0.38072385390599567, Val Accuracy: 0.8854166666666666\n",
            "<---- Epoch 71: 0m -25s ---->\n",
            "Train Loss: 0.1327321980562475, Train Accuracy: 0.984375\n",
            "Val Loss: 0.36068115135033924, Val Accuracy: 0.921875\n",
            "<---- Epoch 72: 0m -25s ---->\n",
            "Train Loss: 0.12684548728995854, Train Accuracy: 0.9895833333333334\n",
            "Val Loss: 0.4439760744571686, Val Accuracy: 0.875\n",
            "<---- Epoch 73: 0m -25s ---->\n",
            "Train Loss: 0.12017211235231823, Train Accuracy: 0.9861111111111112\n",
            "Val Loss: 0.3659260869026184, Val Accuracy: 0.9010416666666666\n",
            "<---- Epoch 74: 0m -25s ---->\n",
            "Train Loss: 0.11851582179466884, Train Accuracy: 0.9878472222222222\n",
            "Val Loss: 0.4835941692193349, Val Accuracy: 0.859375\n",
            "<---- Epoch 75: 0m -25s ---->\n",
            "Train Loss: 0.12258573787079917, Train Accuracy: 0.9895833333333334\n",
            "Val Loss: 0.4184839328130086, Val Accuracy: 0.8697916666666666\n",
            "<---- Epoch 76: 0m -25s ---->\n",
            "Train Loss: 0.12006781001885732, Train Accuracy: 0.9878472222222222\n",
            "Val Loss: 0.4318739076455434, Val Accuracy: 0.8802083333333334\n",
            "<---- Epoch 77: 0m -25s ---->\n",
            "Train Loss: 0.11470791118012534, Train Accuracy: 0.9913194444444444\n",
            "Val Loss: 0.3892105519771576, Val Accuracy: 0.90625\n",
            "<---- Epoch 78: 0m -25s ---->\n",
            "Train Loss: 0.1271104332473543, Train Accuracy: 0.9895833333333334\n",
            "Val Loss: 0.41399367650349933, Val Accuracy: 0.8854166666666666\n",
            "<---- Epoch 79: 0m -25s ---->\n",
            "Train Loss: 0.12368026706907484, Train Accuracy: 0.9947916666666666\n",
            "Val Loss: 0.3461204667886098, Val Accuracy: 0.9010416666666666\n",
            "<---- Epoch 80: 0m -25s ---->\n",
            "Train Loss: 0.11359552211231655, Train Accuracy: 0.9895833333333334\n",
            "Val Loss: 0.38479888439178467, Val Accuracy: 0.8854166666666666\n",
            "<---- Epoch 81: 0m -25s ---->\n",
            "Train Loss: 0.11039777845144272, Train Accuracy: 0.9930555555555556\n",
            "Val Loss: 0.44637999931971234, Val Accuracy: 0.8697916666666666\n",
            "<---- Epoch 82: 0m -25s ---->\n",
            "Train Loss: 0.11782630532979965, Train Accuracy: 0.9930555555555556\n",
            "Val Loss: 0.3689565857251485, Val Accuracy: 0.921875\n",
            "<---- Epoch 83: 0m -25s ---->\n",
            "Train Loss: 0.1126667997903294, Train Accuracy: 0.9913194444444444\n",
            "Val Loss: 0.5003590981165568, Val Accuracy: 0.875\n",
            "<---- Epoch 84: 0m -25s ---->\n",
            "Train Loss: 0.11729274110661612, Train Accuracy: 0.9930555555555556\n",
            "Val Loss: 0.38474781314531964, Val Accuracy: 0.890625\n",
            "<---- Epoch 85: 0m -25s ---->\n",
            "Train Loss: 0.11691355456908543, Train Accuracy: 0.9878472222222222\n",
            "Val Loss: 0.4698946376641591, Val Accuracy: 0.8802083333333334\n",
            "<---- Epoch 86: 0m -25s ---->\n",
            "Train Loss: 0.11855216655466291, Train Accuracy: 0.9861111111111112\n",
            "Val Loss: 0.3742392261823018, Val Accuracy: 0.9010416666666666\n",
            "<---- Epoch 87: 0m -25s ---->\n",
            "Train Loss: 0.11988956729571025, Train Accuracy: 0.9895833333333334\n",
            "Val Loss: 0.40375565489133197, Val Accuracy: 0.890625\n",
            "<---- Epoch 88: 0m -25s ---->\n",
            "Train Loss: 0.11474111593431896, Train Accuracy: 0.9930555555555556\n",
            "Val Loss: 0.4260380268096924, Val Accuracy: 0.9010416666666666\n",
            "<---- Epoch 89: 0m -25s ---->\n",
            "Train Loss: 0.11470633579625024, Train Accuracy: 0.9895833333333334\n",
            "Val Loss: 0.34717049698034924, Val Accuracy: 0.90625\n",
            "<---- Epoch 90: 0m -25s ---->\n",
            "Train Loss: 0.11014418717887667, Train Accuracy: 0.9895833333333334\n",
            "Val Loss: 0.3660250206788381, Val Accuracy: 0.90625\n",
            "<---- Epoch 91: 0m -25s ---->\n",
            "Train Loss: 0.11857992741796705, Train Accuracy: 0.9913194444444444\n",
            "Val Loss: 0.4142104188601176, Val Accuracy: 0.8697916666666666\n",
            "<---- Epoch 92: 0m -25s ---->\n",
            "Train Loss: 0.11610717243618435, Train Accuracy: 0.9913194444444444\n",
            "Val Loss: 0.33105023205280304, Val Accuracy: 0.9166666666666666\n",
            "<---- Epoch 93: 0m -25s ---->\n",
            "Train Loss: 0.12012690140141381, Train Accuracy: 0.9861111111111112\n",
            "Val Loss: 0.3286268611749013, Val Accuracy: 0.9270833333333334\n",
            "<---- Epoch 94: 0m -25s ---->\n",
            "Train Loss: 0.1154029592871666, Train Accuracy: 0.9878472222222222\n",
            "Val Loss: 0.3451303541660309, Val Accuracy: 0.9010416666666666\n",
            "<---- Epoch 95: 0m -25s ---->\n",
            "Train Loss: 0.11425270719660653, Train Accuracy: 0.9895833333333334\n",
            "Val Loss: 0.33964744706948596, Val Accuracy: 0.9270833333333334\n",
            "<---- Epoch 96: 0m -25s ---->\n",
            "Train Loss: 0.11416778258151478, Train Accuracy: 0.9930555555555556\n",
            "Val Loss: 0.3439130286375682, Val Accuracy: 0.90625\n",
            "<---- Epoch 97: 0m -25s ---->\n",
            "Train Loss: 0.11247550033860737, Train Accuracy: 0.9895833333333334\n",
            "Val Loss: 0.46898069977760315, Val Accuracy: 0.890625\n",
            "<---- Epoch 98: 0m -25s ---->\n",
            "Train Loss: 0.1198536968893475, Train Accuracy: 0.9861111111111112\n",
            "Val Loss: 0.3990122079849243, Val Accuracy: 0.9270833333333334\n",
            "<---- Epoch 99: 0m -25s ---->\n",
            "Train Loss: 0.1178376136554612, Train Accuracy: 0.9878472222222222\n",
            "Val Loss: 0.3786996801694234, Val Accuracy: 0.9114583333333334\n",
            "<---- Epoch 100: 0m -25s ---->\n",
            "Train Loss: 0.11635077248016994, Train Accuracy: 0.9895833333333334\n",
            "Val Loss: 0.3501737266778946, Val Accuracy: 0.9114583333333334\n",
            "<---- Epoch 101: 0m -25s ---->\n",
            "Train Loss: 0.12174394975105922, Train Accuracy: 0.9947916666666666\n",
            "Val Loss: 0.4468965729077657, Val Accuracy: 0.8541666666666666\n",
            "<---- Epoch 102: 0m -25s ---->\n",
            "Train Loss: 0.13057319985495675, Train Accuracy: 0.9878472222222222\n",
            "Val Loss: 0.3635856906572978, Val Accuracy: 0.9166666666666666\n",
            "<---- Epoch 103: 0m -25s ---->\n",
            "Train Loss: 0.116544043024381, Train Accuracy: 0.9895833333333334\n",
            "Val Loss: 0.3944251934687297, Val Accuracy: 0.90625\n",
            "<---- Epoch 104: 0m -25s ---->\n",
            "Train Loss: 0.11944951034254497, Train Accuracy: 0.9861111111111112\n",
            "Val Loss: 0.44784478346506756, Val Accuracy: 0.8854166666666666\n",
            "<---- Epoch 105: 0m -25s ---->\n",
            "Train Loss: 0.1112213209271431, Train Accuracy: 0.9930555555555556\n",
            "Val Loss: 0.349527175227801, Val Accuracy: 0.9166666666666666\n",
            "<---- Epoch 106: 0m -25s ---->\n",
            "Train Loss: 0.1175947164495786, Train Accuracy: 0.9895833333333334\n",
            "Val Loss: 0.4298771719137828, Val Accuracy: 0.8854166666666666\n",
            "<---- Epoch 107: 0m -25s ---->\n",
            "Train Loss: 0.11483149023519622, Train Accuracy: 0.9878472222222222\n",
            "Val Loss: 0.4570292333761851, Val Accuracy: 0.8854166666666666\n",
            "<---- Epoch 108: 0m -25s ---->\n",
            "Train Loss: 0.1125793448752827, Train Accuracy: 0.9895833333333334\n",
            "Val Loss: 0.36101988951365155, Val Accuracy: 0.90625\n",
            "<---- Epoch 109: 0m -25s ---->\n",
            "Train Loss: 0.11719521217876011, Train Accuracy: 0.9895833333333334\n",
            "Val Loss: 0.37752024332682294, Val Accuracy: 0.9114583333333334\n",
            "<---- Epoch 110: 0m -25s ---->\n",
            "Train Loss: 0.10823967390590244, Train Accuracy: 0.9930555555555556\n",
            "Val Loss: 0.4068710207939148, Val Accuracy: 0.8697916666666666\n",
            "<---- Epoch 111: 0m -25s ---->\n",
            "Train Loss: 0.11128431061903636, Train Accuracy: 0.9913194444444444\n",
            "Val Loss: 0.3686581750710805, Val Accuracy: 0.8802083333333334\n",
            "<---- Epoch 112: 0m -25s ---->\n",
            "Train Loss: 0.11143584218290117, Train Accuracy: 0.9895833333333334\n",
            "Val Loss: 0.33869074781735736, Val Accuracy: 0.9270833333333334\n",
            "<---- Epoch 113: 0m -25s ---->\n",
            "Train Loss: 0.11555761843919754, Train Accuracy: 0.9913194444444444\n",
            "Val Loss: 0.427988996108373, Val Accuracy: 0.9010416666666666\n",
            "<---- Epoch 114: 0m -25s ---->\n",
            "Train Loss: 0.11751270708110598, Train Accuracy: 0.9913194444444444\n",
            "Val Loss: 0.34235894680023193, Val Accuracy: 0.9322916666666666\n",
            "<---- Epoch 115: 0m -25s ---->\n",
            "Train Loss: 0.11399449076917437, Train Accuracy: 0.9878472222222222\n",
            "Val Loss: 0.3991897602876027, Val Accuracy: 0.9166666666666666\n",
            "<---- Epoch 116: 0m -25s ---->\n",
            "Train Loss: 0.11424735850758022, Train Accuracy: 0.9895833333333334\n",
            "Val Loss: 0.4243600865205129, Val Accuracy: 0.9010416666666666\n",
            "<---- Epoch 117: 0m -25s ---->\n",
            "Train Loss: 0.11504057960377799, Train Accuracy: 0.9947916666666666\n",
            "Val Loss: 0.36931949853897095, Val Accuracy: 0.9010416666666666\n",
            "<---- Epoch 118: 0m -25s ---->\n",
            "Train Loss: 0.11494339340262943, Train Accuracy: 0.9895833333333334\n",
            "Val Loss: 0.40223821997642517, Val Accuracy: 0.8958333333333334\n",
            "<---- Epoch 119: 0m -25s ---->\n",
            "Train Loss: 0.11042244401242998, Train Accuracy: 0.9895833333333334\n",
            "Val Loss: 0.44179536898930866, Val Accuracy: 0.8645833333333334\n",
            "<---- Epoch 120: 0m -25s ---->\n",
            "Train Loss: 0.11510566870371501, Train Accuracy: 0.9895833333333334\n",
            "Val Loss: 0.40386486053466797, Val Accuracy: 0.8802083333333334\n",
            "<---- Epoch 121: 0m -25s ---->\n",
            "Train Loss: 0.11397561017009947, Train Accuracy: 0.9878472222222222\n",
            "Val Loss: 0.33110205332438153, Val Accuracy: 0.8958333333333334\n",
            "<---- Epoch 122: 0m -25s ---->\n",
            "Train Loss: 0.11291600432660845, Train Accuracy: 0.9947916666666666\n",
            "Val Loss: 0.3416990985472997, Val Accuracy: 0.9010416666666666\n",
            "<---- Epoch 123: 0m -25s ---->\n",
            "Train Loss: 0.11266232447491752, Train Accuracy: 0.9947916666666666\n",
            "Val Loss: 0.4634537249803543, Val Accuracy: 0.875\n",
            "<---- Epoch 124: 0m -25s ---->\n",
            "Train Loss: 0.11161371030741268, Train Accuracy: 0.9913194444444444\n",
            "Val Loss: 0.3604314724604289, Val Accuracy: 0.8958333333333334\n",
            "<---- Epoch 125: 0m -25s ---->\n",
            "Train Loss: 0.11495724568764369, Train Accuracy: 0.9913194444444444\n",
            "Val Loss: 0.4373553891976674, Val Accuracy: 0.9010416666666666\n",
            "<---- Epoch 126: 0m -25s ---->\n",
            "Train Loss: 0.11666513896650738, Train Accuracy: 0.9930555555555556\n",
            "Val Loss: 0.3743797143300374, Val Accuracy: 0.90625\n",
            "<---- Epoch 127: 0m -25s ---->\n",
            "Train Loss: 0.1095404318637318, Train Accuracy: 0.9913194444444444\n",
            "Val Loss: 0.4083580772082011, Val Accuracy: 0.890625\n",
            "<---- Epoch 128: 0m -25s ---->\n",
            "Train Loss: 0.1106035312016805, Train Accuracy: 0.9913194444444444\n",
            "Val Loss: 0.34442854921023053, Val Accuracy: 0.9166666666666666\n",
            "<---- Epoch 129: 0m -25s ---->\n",
            "Train Loss: 0.10758950809637706, Train Accuracy: 0.9895833333333334\n",
            "Val Loss: 0.40572575728098553, Val Accuracy: 0.8854166666666666\n",
            "<---- Epoch 130: 0m -25s ---->\n",
            "Train Loss: 0.10207343680991067, Train Accuracy: 0.9947916666666666\n",
            "Val Loss: 0.36886603633562726, Val Accuracy: 0.9010416666666666\n",
            "<---- Epoch 131: 0m -25s ---->\n",
            "Train Loss: 0.11232076916429731, Train Accuracy: 0.9895833333333334\n",
            "Val Loss: 0.3830558856328328, Val Accuracy: 0.8802083333333334\n",
            "<---- Epoch 132: 0m -25s ---->\n",
            "Train Loss: 0.11630450768603219, Train Accuracy: 0.9947916666666666\n",
            "Val Loss: 0.3797310491402944, Val Accuracy: 0.8854166666666666\n",
            "<---- Epoch 133: 0m -25s ---->\n",
            "Train Loss: 0.11469795058170955, Train Accuracy: 0.9930555555555556\n",
            "Val Loss: 0.42917705575625104, Val Accuracy: 0.8854166666666666\n",
            "<---- Epoch 134: 0m -25s ---->\n",
            "Train Loss: 0.10746819525957108, Train Accuracy: 0.9913194444444444\n",
            "Val Loss: 0.3751328686873118, Val Accuracy: 0.9010416666666666\n",
            "<---- Epoch 135: 0m -25s ---->\n",
            "Train Loss: 0.10954561001724666, Train Accuracy: 0.9930555555555556\n",
            "Val Loss: 0.42278043429056805, Val Accuracy: 0.8645833333333334\n",
            "<---- Epoch 136: 0m -25s ---->\n",
            "Train Loss: 0.1181888265742196, Train Accuracy: 0.9895833333333334\n",
            "Val Loss: 0.48757463693618774, Val Accuracy: 0.8697916666666666\n",
            "<---- Epoch 137: 0m -25s ---->\n",
            "Train Loss: 0.11847404721710417, Train Accuracy: 0.9878472222222222\n",
            "Val Loss: 0.3859414259592692, Val Accuracy: 0.9010416666666666\n",
            "<---- Epoch 138: 0m -25s ---->\n",
            "Train Loss: 0.12063225772645739, Train Accuracy: 0.984375\n",
            "Val Loss: 0.36019882559776306, Val Accuracy: 0.9166666666666666\n",
            "<---- Epoch 139: 0m -25s ---->\n",
            "Train Loss: 0.11465389198727077, Train Accuracy: 0.9982638888888888\n",
            "Val Loss: 0.46821320056915283, Val Accuracy: 0.8697916666666666\n",
            "<---- Epoch 140: 0m -25s ---->\n",
            "Train Loss: 0.10685664084222582, Train Accuracy: 0.9895833333333334\n",
            "Val Loss: 0.4010356267293294, Val Accuracy: 0.890625\n",
            "<---- Epoch 141: 0m -25s ---->\n",
            "Train Loss: 0.10105393495824602, Train Accuracy: 0.9965277777777778\n",
            "Val Loss: 0.38065346082051593, Val Accuracy: 0.8958333333333334\n",
            "<---- Epoch 142: 0m -25s ---->\n",
            "Train Loss: 0.11257814367612202, Train Accuracy: 0.9930555555555556\n",
            "Val Loss: 0.3483514338731766, Val Accuracy: 0.9010416666666666\n",
            "<---- Epoch 143: 0m -25s ---->\n",
            "Train Loss: 0.11611134144994947, Train Accuracy: 0.9861111111111112\n",
            "Val Loss: 0.31580889225006104, Val Accuracy: 0.9166666666666666\n",
            "<---- Epoch 144: 0m -25s ---->\n",
            "Train Loss: 0.12147754927476247, Train Accuracy: 0.9895833333333334\n",
            "Val Loss: 0.42263712485631305, Val Accuracy: 0.8802083333333334\n",
            "<---- Epoch 145: 0m -25s ---->\n",
            "Train Loss: 0.11339798238542345, Train Accuracy: 0.9930555555555556\n",
            "Val Loss: 0.3671653171380361, Val Accuracy: 0.921875\n",
            "<---- Epoch 146: 0m -25s ---->\n",
            "Train Loss: 0.10831863267554177, Train Accuracy: 0.9930555555555556\n",
            "Val Loss: 0.4470141530036926, Val Accuracy: 0.8697916666666666\n",
            "<---- Epoch 147: 0m -25s ---->\n",
            "Train Loss: 0.10519074979755613, Train Accuracy: 0.9930555555555556\n",
            "Val Loss: 0.3825188875198364, Val Accuracy: 0.9010416666666666\n",
            "<---- Epoch 148: 0m -25s ---->\n",
            "Train Loss: 0.10706190516551335, Train Accuracy: 0.9965277777777778\n",
            "Val Loss: 0.4096861779689789, Val Accuracy: 0.8854166666666666\n",
            "<---- Epoch 149: 0m -25s ---->\n",
            "Train Loss: 0.11360049661662844, Train Accuracy: 0.9913194444444444\n",
            "Val Loss: 0.3982274333635966, Val Accuracy: 0.8854166666666666\n",
            "<---- Epoch 150: 0m -25s ---->\n",
            "Train Loss: 0.11456022163232167, Train Accuracy: 0.9878472222222222\n",
            "Val Loss: 0.35629528264204663, Val Accuracy: 0.8958333333333334\n",
            "<---- Epoch 151: 0m -25s ---->\n",
            "Train Loss: 0.11473249975177977, Train Accuracy: 0.9913194444444444\n",
            "Val Loss: 0.4884188671906789, Val Accuracy: 0.8802083333333334\n",
            "<---- Epoch 152: 0m -25s ---->\n",
            "Train Loss: 0.11069524039824803, Train Accuracy: 0.9895833333333334\n",
            "Val Loss: 0.3998386859893799, Val Accuracy: 0.8854166666666666\n",
            "<---- Epoch 153: 0m -25s ---->\n",
            "Train Loss: 0.10894394334819582, Train Accuracy: 0.9895833333333334\n",
            "Val Loss: 0.4732236365477244, Val Accuracy: 0.8854166666666666\n",
            "<---- Epoch 154: 0m -25s ---->\n",
            "Train Loss: 0.11894405633211136, Train Accuracy: 0.9861111111111112\n",
            "Val Loss: 0.4375368356704712, Val Accuracy: 0.890625\n",
            "<---- Epoch 155: 0m -25s ---->\n",
            "Train Loss: 0.10146607127454546, Train Accuracy: 0.9913194444444444\n",
            "Val Loss: 0.39174752434094745, Val Accuracy: 0.890625\n",
            "<---- Epoch 156: 0m -25s ---->\n",
            "Train Loss: 0.11118662026193407, Train Accuracy: 0.9895833333333334\n",
            "Val Loss: 0.4615526795387268, Val Accuracy: 0.8802083333333334\n",
            "<---- Epoch 157: 0m -25s ---->\n",
            "Train Loss: 0.10375025040573543, Train Accuracy: 0.9947916666666666\n",
            "Val Loss: 0.5023193955421448, Val Accuracy: 0.8489583333333334\n",
            "<---- Epoch 158: 0m -25s ---->\n",
            "Train Loss: 0.10500576429896885, Train Accuracy: 0.9930555555555556\n",
            "Val Loss: 0.4404189984003703, Val Accuracy: 0.8854166666666666\n",
            "<---- Epoch 159: 0m -25s ---->\n",
            "Train Loss: 0.11017294807566537, Train Accuracy: 0.9913194444444444\n",
            "Val Loss: 0.39901311198870343, Val Accuracy: 0.8802083333333334\n",
            "<---- Epoch 160: 0m -25s ---->\n",
            "Train Loss: 0.10628760688834721, Train Accuracy: 0.9913194444444444\n",
            "Val Loss: 0.35012943545977276, Val Accuracy: 0.90625\n",
            "<---- Epoch 161: 0m -25s ---->\n",
            "Train Loss: 0.12339327484369278, Train Accuracy: 0.9861111111111112\n",
            "Val Loss: 0.3695678909619649, Val Accuracy: 0.8958333333333334\n",
            "<---- Epoch 162: 0m -25s ---->\n",
            "Train Loss: 0.10704326215717527, Train Accuracy: 0.9930555555555556\n",
            "Val Loss: 0.3985872268676758, Val Accuracy: 0.8958333333333334\n",
            "<---- Epoch 163: 0m -25s ---->\n",
            "Train Loss: 0.10611003554529613, Train Accuracy: 0.9913194444444444\n",
            "Val Loss: 0.4176795283953349, Val Accuracy: 0.8854166666666666\n",
            "<---- Epoch 164: 0m -25s ---->\n",
            "Train Loss: 0.11108351002136867, Train Accuracy: 0.9913194444444444\n",
            "Val Loss: 0.3658826947212219, Val Accuracy: 0.9010416666666666\n",
            "<---- Epoch 165: 0m -25s ---->\n",
            "Train Loss: 0.11111822310421202, Train Accuracy: 0.9895833333333334\n",
            "Val Loss: 0.3718347450097402, Val Accuracy: 0.9010416666666666\n",
            "<---- Epoch 166: 0m -25s ---->\n",
            "Train Loss: 0.11746185355716282, Train Accuracy: 0.9878472222222222\n",
            "Val Loss: 0.4412882626056671, Val Accuracy: 0.8854166666666666\n",
            "<---- Epoch 167: 0m -25s ---->\n",
            "Train Loss: 0.11110697107182609, Train Accuracy: 0.9913194444444444\n",
            "Val Loss: 0.3613634407520294, Val Accuracy: 0.8958333333333334\n",
            "<---- Epoch 168: 0m -25s ---->\n",
            "Train Loss: 0.10068570781085226, Train Accuracy: 0.9947916666666666\n",
            "Val Loss: 0.4243627190589905, Val Accuracy: 0.8697916666666666\n",
            "<---- Epoch 169: 0m -25s ---->\n",
            "Train Loss: 0.10971659421920776, Train Accuracy: 0.9878472222222222\n",
            "Val Loss: 0.36456526319185895, Val Accuracy: 0.9166666666666666\n",
            "<---- Epoch 170: 0m -25s ---->\n",
            "Train Loss: 0.10784739173120922, Train Accuracy: 0.9861111111111112\n",
            "Val Loss: 0.367266724507014, Val Accuracy: 0.9010416666666666\n",
            "<---- Epoch 171: 0m -25s ---->\n",
            "Train Loss: 0.10856906076272328, Train Accuracy: 0.9913194444444444\n",
            "Val Loss: 0.39879099527994794, Val Accuracy: 0.890625\n",
            "<---- Epoch 172: 0m -25s ---->\n",
            "Train Loss: 0.1073307270805041, Train Accuracy: 0.9913194444444444\n",
            "Val Loss: 0.35254594683647156, Val Accuracy: 0.90625\n",
            "<---- Epoch 173: 0m -25s ---->\n",
            "Train Loss: 0.10918682151370579, Train Accuracy: 0.9861111111111112\n",
            "Val Loss: 0.4001579483350118, Val Accuracy: 0.90625\n",
            "<---- Epoch 174: 0m -25s ---->\n",
            "Train Loss: 0.10526024053494136, Train Accuracy: 0.9913194444444444\n",
            "Val Loss: 0.42458658417065936, Val Accuracy: 0.8697916666666666\n",
            "<---- Epoch 175: 0m -25s ---->\n",
            "Train Loss: 0.10135360062122345, Train Accuracy: 0.9965277777777778\n",
            "Val Loss: 0.38346771399180096, Val Accuracy: 0.8958333333333334\n",
            "<---- Epoch 176: 0m -25s ---->\n",
            "Train Loss: 0.10593029194407994, Train Accuracy: 0.9913194444444444\n",
            "Val Loss: 0.45103434721628827, Val Accuracy: 0.8697916666666666\n",
            "<---- Epoch 177: 0m -25s ---->\n",
            "Train Loss: 0.10990364270077811, Train Accuracy: 0.9930555555555556\n",
            "Val Loss: 0.39743655920028687, Val Accuracy: 0.90625\n",
            "<---- Epoch 178: 0m -25s ---->\n",
            "Train Loss: 0.10290596799718009, Train Accuracy: 0.9947916666666666\n",
            "Val Loss: 0.3918730715910594, Val Accuracy: 0.8854166666666666\n",
            "<---- Epoch 179: 0m -25s ---->\n",
            "Train Loss: 0.11098981151978175, Train Accuracy: 0.9930555555555556\n",
            "Val Loss: 0.3912107249101003, Val Accuracy: 0.8854166666666666\n",
            "<---- Epoch 180: 0m -25s ---->\n",
            "Train Loss: 0.11065244343545702, Train Accuracy: 0.9930555555555556\n",
            "Val Loss: 0.35470108687877655, Val Accuracy: 0.90625\n",
            "<---- Epoch 181: 0m -25s ---->\n",
            "Train Loss: 0.10762160436974631, Train Accuracy: 0.9913194444444444\n",
            "Val Loss: 0.32287313292423886, Val Accuracy: 0.9166666666666666\n",
            "<---- Epoch 182: 0m -25s ---->\n",
            "Train Loss: 0.10750451021724278, Train Accuracy: 0.9965277777777778\n",
            "Val Loss: 0.45462029178937274, Val Accuracy: 0.859375\n",
            "<---- Epoch 183: 0m -25s ---->\n",
            "Train Loss: 0.1080126634074582, Train Accuracy: 0.9895833333333334\n",
            "Val Loss: 0.35158785184224445, Val Accuracy: 0.9010416666666666\n",
            "<---- Epoch 184: 0m -25s ---->\n",
            "Train Loss: 0.10891253583961064, Train Accuracy: 0.9930555555555556\n",
            "Val Loss: 0.34834373990694684, Val Accuracy: 0.9010416666666666\n",
            "<---- Epoch 185: 0m -25s ---->\n",
            "Train Loss: 0.10390757438209322, Train Accuracy: 0.9947916666666666\n",
            "Val Loss: 0.4745723605155945, Val Accuracy: 0.8333333333333334\n",
            "<---- Epoch 186: 0m -25s ---->\n",
            "Train Loss: 0.10627918359306124, Train Accuracy: 0.9930555555555556\n",
            "Val Loss: 0.4580080509185791, Val Accuracy: 0.890625\n",
            "<---- Epoch 187: 0m -25s ---->\n",
            "Train Loss: 0.11370450341039234, Train Accuracy: 0.9913194444444444\n",
            "Val Loss: 0.37941251198450726, Val Accuracy: 0.90625\n",
            "<---- Epoch 188: 0m -25s ---->\n",
            "Train Loss: 0.11645634803507063, Train Accuracy: 0.9930555555555556\n",
            "Val Loss: 0.40511799852053326, Val Accuracy: 0.8854166666666666\n",
            "<---- Epoch 189: 0m -25s ---->\n",
            "Train Loss: 0.11478441456953685, Train Accuracy: 0.9913194444444444\n",
            "Val Loss: 0.5148151218891144, Val Accuracy: 0.859375\n",
            "<---- Epoch 190: 0m -25s ---->\n",
            "Train Loss: 0.10720488594637977, Train Accuracy: 0.9947916666666666\n",
            "Val Loss: 0.4112873077392578, Val Accuracy: 0.8854166666666666\n",
            "<---- Epoch 191: 0m -25s ---->\n",
            "Train Loss: 0.10552036182747947, Train Accuracy: 0.9913194444444444\n",
            "Val Loss: 0.47131556272506714, Val Accuracy: 0.875\n",
            "<---- Epoch 192: 0m -25s ---->\n",
            "Train Loss: 0.10422530521949132, Train Accuracy: 0.9947916666666666\n",
            "Val Loss: 0.35698046286900836, Val Accuracy: 0.8802083333333334\n",
            "<---- Epoch 193: 0m -25s ---->\n",
            "Train Loss: 0.10607988635698955, Train Accuracy: 0.9930555555555556\n",
            "Val Loss: 0.4391244351863861, Val Accuracy: 0.875\n",
            "<---- Epoch 194: 0m -25s ---->\n",
            "Train Loss: 0.10146657874186833, Train Accuracy: 0.9930555555555556\n",
            "Val Loss: 0.39115114013353985, Val Accuracy: 0.8854166666666666\n",
            "<---- Epoch 195: 0m -25s ---->\n",
            "Train Loss: 0.11465123875273599, Train Accuracy: 0.9965277777777778\n",
            "Val Loss: 0.3550101617972056, Val Accuracy: 0.90625\n",
            "<---- Epoch 196: 0m -25s ---->\n",
            "Train Loss: 0.10252310749557283, Train Accuracy: 0.9913194444444444\n",
            "Val Loss: 0.38408733407656354, Val Accuracy: 0.9010416666666666\n",
            "<---- Epoch 197: 0m -25s ---->\n",
            "Train Loss: 0.10174671891662809, Train Accuracy: 0.9930555555555556\n",
            "Val Loss: 0.3959021369616191, Val Accuracy: 0.9010416666666666\n",
            "<---- Epoch 198: 0m -25s ---->\n",
            "Train Loss: 0.10368214299281438, Train Accuracy: 0.9913194444444444\n",
            "Val Loss: 0.36023707191149396, Val Accuracy: 0.90625\n",
            "<---- Epoch 199: 0m -25s ---->\n",
            "Train Loss: 0.10317591288023525, Train Accuracy: 0.9965277777777778\n",
            "Val Loss: 0.3537813127040863, Val Accuracy: 0.8802083333333334\n",
            "<---- Epoch 200: 0m -25s ---->\n",
            "Train Loss: 0.10422402868668239, Train Accuracy: 0.9947916666666666\n",
            "Val Loss: 0.3948686420917511, Val Accuracy: 0.8854166666666666\n"
          ]
        }
      ],
      "source": [
        "EPOCHS=200\n",
        "trainer = Trainer(epochs=EPOCHS)\n",
        "history = trainer.fit(train_dataloader, test_dataloader, model)"
      ]
    },
    {
      "cell_type": "code",
      "source": [
        "g1 = sns.lineplot(x=range(0, EPOCHS), y=history[\"train\"][\"loss\"])\n",
        "g2 = sns.lineplot(x=range(0, EPOCHS), y=history[\"val\"][\"loss\"])\n",
        "plt.xlabel(\"Epochs\")\n",
        "plt.ylabel(\"Loss\")\n",
        "plt.legend([\"Train\", \"Validation\"])\n",
        "plt.show()"
      ],
      "metadata": {
        "id": "u37iiE7Xw4cE",
        "colab": {
          "base_uri": "https://localhost:8080/",
          "height": 279
        },
        "outputId": "69806749-193c-4bf4-9453-883079dc9df5"
      },
      "id": "u37iiE7Xw4cE",
      "execution_count": 26,
      "outputs": [
        {
          "output_type": "display_data",
          "data": {
            "text/plain": [
              "<Figure size 432x288 with 1 Axes>"
            ],
            "image/png": "[encoded data removed]"
          },
          "metadata": {
            "needs_background": "light"
          }
        }
      ]
    },
    {
      "cell_type": "code",
      "source": [
        "g1 = sns.lineplot(x=range(0, EPOCHS), y=history[\"train\"][\"accuracy\"])\n",
        "g2 = sns.lineplot(x=range(0, EPOCHS), y=history[\"val\"][\"accuracy\"])\n",
        "plt.xlabel(\"Epochs\")\n",
        "plt.ylabel(\"Accuracy\")\n",
        "plt.legend([\"Train\", \"Validation\"])\n",
        "plt.show()"
      ],
      "metadata": {
        "id": "u0nw2GvGKVBa",
        "colab": {
          "base_uri": "https://localhost:8080/",
          "height": 279
        },
        "outputId": "b79cf1fe-523d-42fe-f0b9-8a11bf2134d6"
      },
      "id": "u0nw2GvGKVBa",
      "execution_count": 27,
      "outputs": [
        {
          "output_type": "display_data",
          "data": {
            "text/plain": [
              "<Figure size 432x288 with 1 Axes>"
            ],
            "image/png": "[encoded data removed]"
          },
          "metadata": {
            "needs_background": "light"
          }
        }
      ]
    },
    {
      "cell_type": "code",
      "source": [
        "trainer = Trainer(epochs=EPOCHS)\n",
        "trainer.load_checkpoint(epoch=114)"
      ],
      "metadata": {
        "id": "Vcn96tWqDmgk"
      },
      "id": "Vcn96tWqDmgk",
      "execution_count": 32,
      "outputs": []
    },
    {
      "cell_type": "code",
      "source": [
        "acc, y_pred, y = trainer.evaluate(test_dataloader)\n",
        "print(f\"Test Accuracy: {acc}\")"
      ],
      "metadata": {
        "id": "cwQDDHDOr4y-",
        "colab": {
          "base_uri": "https://localhost:8080/"
        },
        "outputId": "6b3d5d1a-71d3-4ec9-88cd-2190e14f9e25"
      },
      "id": "cwQDDHDOr4y-",
      "execution_count": 33,
      "outputs": [
        {
          "output_type": "stream",
          "name": "stdout",
          "text": [
            "Test Accuracy: 0.9010416666666666\n"
          ]
        }
      ]
    },
    {
      "cell_type": "code",
      "source": [
        "fig = plt.figure(figsize = (10, 10))\n",
        "ax = fig.add_subplot(1, 1, 1)\n",
        "cm = confusion_matrix(y.astype(int), y_pred.astype(int))\n",
        "cm = ConfusionMatrixDisplay(cm, display_labels = CLASSES)\n",
        "cm.plot(values_format = 'd', cmap = 'Blues', ax = ax)\n",
        "plt.xticks(rotation = 45)\n",
        "plt.show()"
      ],
      "metadata": {
        "id": "bKxhhmSZxCm0",
        "colab": {
          "base_uri": "https://localhost:8080/",
          "height": 588
        },
        "outputId": "d9aa347b-9075-408b-eea7-2dfec19647b5"
      },
      "id": "bKxhhmSZxCm0",
      "execution_count": 34,
      "outputs": [
        {
          "output_type": "display_data",
          "data": {
            "text/plain": [
              "<Figure size 720x720 with 2 Axes>"
            ],
            "image/png": "[encoded data removed]"
          },
          "metadata": {
            "needs_background": "light"
          }
        }
      ]
    }
  ],
  "metadata": {
    "kernelspec": {
      "display_name": "Python 3 (ipykernel)",
      "language": "python",
      "name": "python3"
    },
    "language_info": {
      "codemirror_mode": {
        "name": "ipython",
        "version": 3
      },
      "file_extension": ".py",
      "mimetype": "text/x-python",
      "name": "python",
      "nbconvert_exporter": "python",
      "pygments_lexer": "ipython3",
      "version": "3.9.6"
    },
    "colab": {
      "provenance": [],
      "machine_shape": "hm"
    },
    "accelerator": "GPU",
    "gpuClass": "standard"
  },
  "nbformat": 4,
  "nbformat_minor": 5
}